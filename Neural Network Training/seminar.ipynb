{
  "cells": [
    {
      "cell_type": "markdown",
      "metadata": {
        "id": "view-in-github",
        "colab_type": "text"
      },
      "source": [
        "<a href=\"https://colab.research.google.com/github/kazars24/tinkoff-dl-fall22/blob/main/Neural%20Network%20Training/seminar.ipynb\" target=\"_parent\"><img src=\"https://colab.research.google.com/assets/colab-badge.svg\" alt=\"Open In Colab\"/></a>"
      ]
    },
    {
      "cell_type": "markdown",
      "metadata": {
        "id": "AgXSZstLiJE6"
      },
      "source": [
        "# Neural Networks practice"
      ]
    },
    {
      "cell_type": "markdown",
      "metadata": {
        "id": "GhMmKNSLiJE_"
      },
      "source": [
        "The ultimate goal of this notebook is to gain intuition in how neural networks should work.\n",
        "\n",
        "First, we'll look into some building blocks:\n",
        "- Activation functions\n",
        "- Loss function\n",
        "- Dense Layer\n",
        "\n",
        "Then, we'll get an idea of how the backpropogation algorithm works.\n",
        "\n",
        "Finally, we'll build a simple neural network on MNIST classification task.\n",
        "\n",
        "Let's get started."
      ]
    },
    {
      "cell_type": "code",
      "execution_count": 1,
      "metadata": {
        "id": "C7uciMiViJFB"
      },
      "outputs": [],
      "source": [
        "import torch\n",
        "import torchvision\n",
        "\n",
        "import numpy as np\n",
        "import matplotlib.pyplot as plt\n",
        "from typing import Callable, Dict, List, Optional, Tuple\n",
        "\n",
        "\n",
        "plt.style.use('dark_background')"
      ]
    },
    {
      "cell_type": "markdown",
      "metadata": {
        "id": "Pg-LbTfBiJFE"
      },
      "source": [
        "### Activation functions"
      ]
    },
    {
      "cell_type": "markdown",
      "metadata": {
        "id": "ySjkhM8SiJFF"
      },
      "source": [
        "In this notebook we'll only examine ReLU nonlinearity function, although there are much more nonlinearities you can apply in your neural network."
      ]
    },
    {
      "cell_type": "code",
      "execution_count": 2,
      "metadata": {
        "colab": {
          "base_uri": "https://localhost:8080/",
          "height": 281
        },
        "id": "RekEjAsRiJFG",
        "outputId": "67a12e84-4ee2-4211-b4de-b83f57e90797"
      },
      "outputs": [
        {
          "output_type": "display_data",
          "data": {
            "text/plain": [
              "<Figure size 432x288 with 1 Axes>"
            ],
            "image/png": "[encoded data removed]"
          },
          "metadata": {}
        }
      ],
      "source": [
        "relu: Callable[[np.ndarray], np.ndarray] = \\\n",
        "    lambda x: np.where(x < 0, 0, x)\n",
        "\n",
        "plt.axhline(c='.2')\n",
        "plt.axvline(color='.2')\n",
        "plt.grid(c='.1', ls='--')\n",
        "\n",
        "\n",
        "z = torch.linspace(-7.5, 7.5, 100)\n",
        "plt.plot(z, relu(z))\n",
        "plt.title(\"ReLU\")\n",
        "plt.show()"
      ]
    },
    {
      "cell_type": "markdown",
      "metadata": {
        "id": "yc_uDN85iJFK"
      },
      "source": [
        "### Softmax"
      ]
    },
    {
      "cell_type": "markdown",
      "metadata": {
        "id": "74JFcp-3iJFL"
      },
      "source": [
        "![softmax](misc/softmax.png)"
      ]
    },
    {
      "cell_type": "code",
      "execution_count": 3,
      "metadata": {
        "id": "qg0uSWYyiJFM"
      },
      "outputs": [],
      "source": [
        "softmax1: Callable[[np.ndarray], np.ndarray] = \\\n",
        "    lambda x: np.exp(x) / np.sum(np.exp(x), -1)[:, None]"
      ]
    },
    {
      "cell_type": "code",
      "execution_count": 4,
      "metadata": {
        "id": "sRbWTTX-iJFN"
      },
      "outputs": [],
      "source": [
        "def softmax2(x: np.ndarray) -> np.ndarray:\n",
        "    \"\"\"\n",
        "        x: array of shape [BS, NC]\n",
        "        \n",
        "        return: array of shape [BS, NC]\n",
        "    \"\"\"\n",
        "    max_ = np.max(x, 1)[:, None]\n",
        "    return np.exp(x - max_) / np.sum(np.exp(x - max_), -1)[:, None]"
      ]
    },
    {
      "cell_type": "code",
      "execution_count": 5,
      "metadata": {
        "id": "5ETv59JjiJFP"
      },
      "outputs": [],
      "source": [
        "bs = 3\n",
        "nc = 10\n",
        "x = np.random.randn(bs, nc)\n",
        "\n",
        "\n",
        "assert np.allclose(softmax1(x).sum(1) - 1., 0)\n",
        "assert np.allclose(softmax2(x).sum(1) - 1., 0)\n",
        "assert np.allclose(softmax1(x), softmax2(x))"
      ]
    },
    {
      "cell_type": "code",
      "execution_count": 6,
      "metadata": {
        "id": "hdi8VJ_riJFR"
      },
      "outputs": [],
      "source": [
        "assert np.allclose(\n",
        "    torch.softmax(torch.tensor(x), 1).numpy(),\n",
        "    softmax2(x)\n",
        ")"
      ]
    },
    {
      "cell_type": "markdown",
      "metadata": {
        "id": "nS51Sk7AiJFS"
      },
      "source": [
        "### Cross-Entropy"
      ]
    },
    {
      "cell_type": "markdown",
      "metadata": {
        "id": "bcCtcd0giJFS"
      },
      "source": [
        "![cross_entropy](misc/cross-entropy.png)"
      ]
    },
    {
      "cell_type": "code",
      "execution_count": 7,
      "metadata": {
        "id": "toYeRR0piJFT"
      },
      "outputs": [],
      "source": [
        "def cross_entropy(scores: np.ndarray, target: np.ndarray):\n",
        "    \"\"\"\n",
        "        scores: array of shape [BS, NC]\n",
        "        target: array of shape [BS], where each value is between [0, NC)\n",
        "\n",
        "        return: single value \n",
        "    \"\"\"\n",
        "    correct_scores = scores[range(scores.shape[0]), target]\n",
        "    return -np.log(correct_scores).mean()"
      ]
    },
    {
      "cell_type": "code",
      "execution_count": 8,
      "metadata": {
        "colab": {
          "base_uri": "https://localhost:8080/"
        },
        "id": "is03LcMuiJFU",
        "outputId": "c7ee033c-5c64-4c23-bd4f-5196ff5b137e"
      },
      "outputs": [
        {
          "output_type": "execute_result",
          "data": {
            "text/plain": [
              "2.0942310657265177"
            ]
          },
          "metadata": {},
          "execution_count": 8
        }
      ],
      "source": [
        "target = np.random.randint(0, nc, size=(bs, ))\n",
        "cross_entropy(softmax2(x), target)"
      ]
    },
    {
      "cell_type": "code",
      "execution_count": 9,
      "metadata": {
        "id": "qmNum_-_iJFU"
      },
      "outputs": [],
      "source": [
        "assert np.allclose(\n",
        "    torch.nn.functional.cross_entropy(\n",
        "        torch.tensor(x), torch.tensor(target)\n",
        "    ).item(),\n",
        "    cross_entropy(softmax2(x), target)\n",
        ")"
      ]
    },
    {
      "cell_type": "markdown",
      "metadata": {
        "id": "SYWI5qodiJFV"
      },
      "source": [
        "### Dense Layer"
      ]
    },
    {
      "cell_type": "markdown",
      "metadata": {
        "id": "lhK5p4pbiJFW"
      },
      "source": [
        "It's just a function $f(X) = XW + b$, where $W$ and $b$ - learnable parameters"
      ]
    },
    {
      "cell_type": "code",
      "execution_count": null,
      "metadata": {
        "colab": {
          "base_uri": "https://localhost:8080/"
        },
        "id": "GHKmBsuCiJFX",
        "outputId": "30734485-77d4-4d97-8c52-83174a5e2478"
      },
      "outputs": [
        {
          "output_type": "stream",
          "name": "stdout",
          "text": [
            "(3, 5)\n"
          ]
        }
      ],
      "source": [
        "dense = lambda x, w, b: x @ w + b\n",
        "\n",
        "\n",
        "bs, in_size, out_size = 3, 4, 5\n",
        "w = np.random.normal(loc=0, scale=1, size=(in_size, out_size))\n",
        "b = np.zeros(out_size)\n",
        "x = np.random.randn(bs, in_size)\n",
        "\n",
        "\n",
        "print(dense(x, w, b).shape)"
      ]
    },
    {
      "cell_type": "markdown",
      "metadata": {
        "id": "Wdm1seNoiJFY"
      },
      "source": [
        "---"
      ]
    },
    {
      "cell_type": "markdown",
      "metadata": {
        "id": "t7mYglZMiJFZ"
      },
      "source": [
        "### Backpropagation"
      ]
    },
    {
      "cell_type": "markdown",
      "metadata": {
        "id": "CmpdFf6wiJFZ"
      },
      "source": [
        "To learn something, we need to be able to calculate gradients in order to apply backpropogation algorithm.\n",
        "\n",
        "To make sure, everything works fine, we can also calculate gradients numerically and compare them."
      ]
    },
    {
      "cell_type": "code",
      "execution_count": null,
      "metadata": {
        "id": "ZVeyR7eyiJFb"
      },
      "outputs": [],
      "source": [
        "class Dense:\n",
        "    def __init__(self, in_size: int, out_size: int):\n",
        "        self.W = np.random.normal(\n",
        "            loc=0,\n",
        "            scale=1,\n",
        "            size=(in_size, out_size)\n",
        "        )\n",
        "        self.b = np.zeros(out_size)\n",
        "        self.dW = None\n",
        "        self.db = None\n",
        "        self.x = None\n",
        "\n",
        "    def forward(self, x: np.ndarray) -> np.ndarray:\n",
        "        self.x = np.copy(x)  # save for backward\n",
        "\n",
        "        return x @ self.W + self.b\n",
        "    \n",
        "    def backward(\n",
        "        self,\n",
        "        dz: np.ndarray,\n",
        "        x: Optional[np.ndarray] = None\n",
        "    ) -> np.ndarray:\n",
        "        if x is not None:\n",
        "            self.x = x\n",
        "\n",
        "        dzdx = dz @ self.W.T\n",
        "\n",
        "        self.dW = self.x.T @ dz\n",
        "        self.db = np.sum(dz, 0)\n",
        "\n",
        "        return dzdx\n",
        "    \n",
        "    def update(self):\n",
        "        pass"
      ]
    },
    {
      "cell_type": "code",
      "execution_count": null,
      "metadata": {
        "id": "doCrn18piJFc"
      },
      "outputs": [],
      "source": [
        "\n",
        "def eval_numerical_gradient(f, x, h=0.00001):\n",
        "    \"\"\"\n",
        "        Evaluates gradient df/dx via finite differences:\n",
        "        df/dx ~ (f(x+h) - f(x-h)) / 2h\n",
        "    \"\"\"\n",
        "    grad = np.zeros_like(x)\n",
        "    it = np.nditer(x, flags=['multi_index'], op_flags=['readwrite'])\n",
        "    \n",
        "    while not it.finished:\n",
        "\n",
        "        ix = it.multi_index\n",
        "        oldval = x[ix]\n",
        "        x[ix] = oldval + h # increment by h\n",
        "        fxph = f(x) # evalute f(x + h)\n",
        "        x[ix] = oldval - h\n",
        "        fxmh = f(x) # evaluate f(x - h)\n",
        "        x[ix] = oldval # restore\n",
        "\n",
        "        grad[ix] = (fxph - fxmh) / (2 * h)\n",
        "        it.iternext()\n",
        "\n",
        "    return grad"
      ]
    },
    {
      "cell_type": "code",
      "execution_count": null,
      "metadata": {
        "colab": {
          "base_uri": "https://localhost:8080/"
        },
        "id": "hHOiyelziJFd",
        "outputId": "9a752b6f-36a5-4200-9247-c85898cdb0ba"
      },
      "outputs": [
        {
          "output_type": "stream",
          "name": "stdout",
          "text": [
            "Well done!\n"
          ]
        }
      ],
      "source": [
        "#test gradients w.r.t. input\n",
        "\n",
        "x = np.linspace(-1,1,10*32).reshape([10,32])\n",
        "l = Dense(32,64)\n",
        "\n",
        "numeric_grads = eval_numerical_gradient(lambda x: l.forward(x).sum(),x)\n",
        "grads = l.backward(np.ones([10,64]))\n",
        "\n",
        "assert np.allclose(grads,numeric_grads,rtol=1e-3,atol=0), \"input gradient does not match numeric grad\"\n",
        "print(\"Well done!\")"
      ]
    },
    {
      "cell_type": "code",
      "execution_count": null,
      "metadata": {
        "colab": {
          "base_uri": "https://localhost:8080/"
        },
        "id": "U5n9XgVuiJFe",
        "outputId": "b42175f5-bc5e-4217-b117-ea7128de997e"
      },
      "outputs": [
        {
          "output_type": "stream",
          "name": "stdout",
          "text": [
            "Well done!\n"
          ]
        }
      ],
      "source": [
        "#test gradients w.r.t. params\n",
        "def compute_out_given_wb(\n",
        "    w: np.ndarray, b: np.ndarray\n",
        ") -> np.ndarray:\n",
        "    l = Dense(32,64)\n",
        "    l.W = np.array(w)\n",
        "    l.b = np.array(b)\n",
        "    x = np.linspace(-1,1,10*32).reshape([10,32])\n",
        "    return l.forward(x)\n",
        "    \n",
        "def compute_grad_by_params(\n",
        "    w: np.ndarray, b: np.ndarray\n",
        ") -> Tuple[np.ndarray, np.ndarray]:\n",
        "    l = Dense(32,64)\n",
        "    l.weights = np.array(w)\n",
        "    l.biases = np.array(b)\n",
        "    x = np.linspace(-1,1,10*32).reshape([10,32])\n",
        "    l.backward(np.ones([10,64]) / 10., x)\n",
        "    return l.dW, l.db\n",
        "    \n",
        "w, b = np.random.randn(32,64), np.linspace(-1,1,64)\n",
        "\n",
        "numeric_dw = eval_numerical_gradient(\n",
        "    lambda w: compute_out_given_wb(w,b).mean(0).sum(), w \n",
        ")\n",
        "numeric_db = eval_numerical_gradient(\n",
        "    lambda b: compute_out_given_wb(w,b).mean(0).sum(), b\n",
        "    )\n",
        "grad_w,grad_b = compute_grad_by_params(w, b)\n",
        "\n",
        "assert np.allclose(numeric_dw,grad_w,rtol=1e-3,atol=0), \\\n",
        "    \"weight gradient does not match numeric weight gradient\"\n",
        "assert np.allclose(numeric_db,grad_b,rtol=1e-3,atol=0), \\\n",
        "    \"weight gradient does not match numeric weight gradient\"\n",
        "print(\"Well done!\")"
      ]
    },
    {
      "cell_type": "markdown",
      "metadata": {
        "id": "vDaYHqfIiJFg"
      },
      "source": [
        "Let's also practice coding bacward step for *ReLU* function "
      ]
    },
    {
      "cell_type": "code",
      "execution_count": null,
      "metadata": {
        "id": "v8RkE9n2iJFh"
      },
      "outputs": [],
      "source": [
        "class ReLU:\n",
        "    def __init__(self):\n",
        "        self.x = None\n",
        "\n",
        "    def forward(self, x: np.ndarray) -> np.ndarray:\n",
        "        self.x = np.copy(x)  # save for backward\n",
        "\n",
        "        return np.where(x > 0, x, 0)\n",
        "    \n",
        "    def backward(self, dz: np.ndarray) -> np.ndarray:\n",
        "        return np.where(self.x > 0, dz, 0)"
      ]
    },
    {
      "cell_type": "code",
      "execution_count": null,
      "metadata": {
        "id": "y2INXZZWiJFi"
      },
      "outputs": [],
      "source": [
        "# numerical test\n",
        "\n",
        "x = np.linspace(-1,1,10*32).reshape([10,32])\n",
        "l = ReLU()\n",
        "_ = l.forward(x)\n",
        "grads = l.backward(np.ones([10,32])/(32*10))\n",
        "numeric_grads = eval_numerical_gradient(lambda x: l.forward(x).mean(), x=x)\n",
        "\n",
        "assert np.allclose(grads, numeric_grads, rtol=1e-3, atol=0), \\\n",
        "    \"gradient returned by your layer does not match the numerically computed gradient\""
      ]
    },
    {
      "cell_type": "markdown",
      "metadata": {
        "id": "AAD9NQ0kiJFi"
      },
      "source": [
        "Okay, now we're good to go train our classification network."
      ]
    },
    {
      "cell_type": "markdown",
      "metadata": {
        "id": "B0cDAEFxiJFj"
      },
      "source": [
        "---"
      ]
    },
    {
      "cell_type": "markdown",
      "metadata": {
        "id": "e1Ptg3boiJFj"
      },
      "source": [
        "### MNIST"
      ]
    },
    {
      "cell_type": "code",
      "execution_count": null,
      "metadata": {
        "colab": {
          "base_uri": "https://localhost:8080/",
          "height": 757,
          "referenced_widgets": [
            "0c2d7e0caa0d4a6787c3771dd9772af0",
            "e99a2a92eeb841bba08b16a51c39b518",
            "78a2c73471c74356b9d2a822f385cbee",
            "372ddfc095374bdf849c575839db1e1f",
            "01cde1b6807144ab87bfd70ebc23ed5e",
            "f9e2014ad8d440669af6d48286dd4e4b",
            "040de66000b34867ba8daeb9693af95a",
            "cd4366b3d9fb4c1dbca75fc0d751812d",
            "412f3e41f3c2422b9fc7f59766728e14",
            "4358a677d63843698b6cee0916ff9f37",
            "bfef640e4fbb46159b38977178087f4c",
            "9fa3c5aae3a740d394defd2596b527f2",
            "82eedc97e13d481aa28c5bfe10ae8ffc",
            "8023e4d2eaab4887b45a23df815eb165",
            "54665cb756914647b578f4d604bc697b",
            "f8607a66fd454534a90a999d8415e97d",
            "32e8f75cc3c44055968ee14bd193474c",
            "b1124ca5221e41228ee1b77c231fd98f",
            "e70ef2e26f2d460ea3503b38ba60ac91",
            "57ae6f8dcf644a47ac58c8afac4a467a",
            "c5b0a62c70cc4caf9b87a51d6828dbf3",
            "31b77342e7a44daeb17b6a47e589d9a3",
            "bee95a9086e6413cba8edd90d3907ab3",
            "086b3a5cfc724b5590f95c28688c582c",
            "2f4056a882664c2899020dd143c1bf9f",
            "ebca3f0bb7694b6ab13b840cdc733cad",
            "11ef6bc00ea74fb1a9b7997d06c4a432",
            "0f9b59743e424b78a3530376fcc68056",
            "dae1d81dde594149b79de7c5f6366d06",
            "064493e0eb61424f87a8410a22dc1e8b",
            "cce7a321dc314eee8831d9f9b619ccc4",
            "b6b3e17a36cd4fa79f7c6bb22367a44e",
            "9b1caa8f03ee4dfda7cbb537f6ad4a04",
            "b51bbf6934df441bb3867eea82aafac8",
            "290ec50fe09e42298ec9627a5dc77819",
            "d4732e768f3448ddb46466b7c2791669",
            "defbe5c1606f4463a8aa6ca2c1085d9b",
            "bf99b491333c41f88b651c3f67ce150f",
            "6ab81d1e5db54447a002b91dcd7ef1fa",
            "50d80c8e5d31491aacdb40490e63b12b",
            "4c8d1fbf61d042d9aecb4075347bc91c",
            "8074875101fa4d2d982c4ef346ec50fe",
            "be422dc51b9b4acd9b31e5f593f44812",
            "8cc08b85b7f14e6fb57a6be266a409ce"
          ]
        },
        "id": "l-98Jh7KiJFk",
        "outputId": "957a9640-7b75-4279-a281-53cfebde02ce"
      },
      "outputs": [
        {
          "output_type": "stream",
          "name": "stdout",
          "text": [
            "Downloading http://yann.lecun.com/exdb/mnist/train-images-idx3-ubyte.gz\n",
            "Downloading http://yann.lecun.com/exdb/mnist/train-images-idx3-ubyte.gz to .data/MNIST/raw/train-images-idx3-ubyte.gz\n"
          ]
        },
        {
          "output_type": "display_data",
          "data": {
            "text/plain": [
              "  0%|          | 0/9912422 [00:00<?, ?it/s]"
            ],
            "application/vnd.jupyter.widget-view+json": {
              "version_major": 2,
              "version_minor": 0,
              "model_id": "0c2d7e0caa0d4a6787c3771dd9772af0"
            }
          },
          "metadata": {}
        },
        {
          "output_type": "stream",
          "name": "stdout",
          "text": [
            "Extracting .data/MNIST/raw/train-images-idx3-ubyte.gz to .data/MNIST/raw\n",
            "\n",
            "Downloading http://yann.lecun.com/exdb/mnist/train-labels-idx1-ubyte.gz\n",
            "Downloading http://yann.lecun.com/exdb/mnist/train-labels-idx1-ubyte.gz to .data/MNIST/raw/train-labels-idx1-ubyte.gz\n"
          ]
        },
        {
          "output_type": "display_data",
          "data": {
            "text/plain": [
              "  0%|          | 0/28881 [00:00<?, ?it/s]"
            ],
            "application/vnd.jupyter.widget-view+json": {
              "version_major": 2,
              "version_minor": 0,
              "model_id": "9fa3c5aae3a740d394defd2596b527f2"
            }
          },
          "metadata": {}
        },
        {
          "output_type": "stream",
          "name": "stdout",
          "text": [
            "Extracting .data/MNIST/raw/train-labels-idx1-ubyte.gz to .data/MNIST/raw\n",
            "\n",
            "Downloading http://yann.lecun.com/exdb/mnist/t10k-images-idx3-ubyte.gz\n",
            "Downloading http://yann.lecun.com/exdb/mnist/t10k-images-idx3-ubyte.gz to .data/MNIST/raw/t10k-images-idx3-ubyte.gz\n"
          ]
        },
        {
          "output_type": "display_data",
          "data": {
            "text/plain": [
              "  0%|          | 0/1648877 [00:00<?, ?it/s]"
            ],
            "application/vnd.jupyter.widget-view+json": {
              "version_major": 2,
              "version_minor": 0,
              "model_id": "bee95a9086e6413cba8edd90d3907ab3"
            }
          },
          "metadata": {}
        },
        {
          "output_type": "stream",
          "name": "stdout",
          "text": [
            "Extracting .data/MNIST/raw/t10k-images-idx3-ubyte.gz to .data/MNIST/raw\n",
            "\n",
            "Downloading http://yann.lecun.com/exdb/mnist/t10k-labels-idx1-ubyte.gz\n",
            "Downloading http://yann.lecun.com/exdb/mnist/t10k-labels-idx1-ubyte.gz to .data/MNIST/raw/t10k-labels-idx1-ubyte.gz\n"
          ]
        },
        {
          "output_type": "display_data",
          "data": {
            "text/plain": [
              "  0%|          | 0/4542 [00:00<?, ?it/s]"
            ],
            "application/vnd.jupyter.widget-view+json": {
              "version_major": 2,
              "version_minor": 0,
              "model_id": "b51bbf6934df441bb3867eea82aafac8"
            }
          },
          "metadata": {}
        },
        {
          "output_type": "stream",
          "name": "stdout",
          "text": [
            "Extracting .data/MNIST/raw/t10k-labels-idx1-ubyte.gz to .data/MNIST/raw\n",
            "\n",
            "Dataset MNIST\n",
            "    Number of datapoints: 60000\n",
            "    Root location: .data/\n",
            "    Split: Train\n",
            "# of examples: 60000\n"
          ]
        },
        {
          "output_type": "display_data",
          "data": {
            "text/plain": [
              "<Figure size 432x288 with 1 Axes>"
            ],
            "image/png": "[encoded data removed]"
          },
          "metadata": {}
        }
      ],
      "source": [
        "# Let's visualise images first\n",
        "\n",
        "dataset = torchvision.datasets.MNIST(\".data/\", train=True, download=True)\n",
        "\n",
        "print(dataset)\n",
        "print(f\"# of examples: {len(dataset)}\")\n",
        "\n",
        "x = torch.cat([\n",
        "    torch.from_numpy(np.array(dataset[idx][0]))[None][None]\n",
        "    for idx in range(64)\n",
        "])\n",
        "\n",
        "plt.imshow(torchvision.utils.make_grid(x).permute(1,2,0))\n",
        "plt.title(\"train samples\")\n",
        "plt.axis(\"off\")\n",
        "plt.show()"
      ]
    },
    {
      "cell_type": "markdown",
      "metadata": {
        "id": "SOtuDe82iJFk"
      },
      "source": [
        "Training on the full data may take long time, so we will randomly choose training and validation subsets to reduce waiting."
      ]
    },
    {
      "cell_type": "code",
      "execution_count": null,
      "metadata": {
        "id": "lLmhyGuyiJFl"
      },
      "outputs": [],
      "source": [
        "train_size, val_size = 1500, 200\n",
        "np.random.seed(42)\n",
        "indices = np.random.choice(\n",
        "    np.arange(dataset.data.shape[0]),\n",
        "    size=train_size + val_size,\n",
        "    replace=False\n",
        ")\n",
        "\n",
        "targets = dataset.targets[indices].numpy()\n",
        "data = dataset.data[indices].numpy()\n",
        "\n",
        "train_targets = targets[:train_size]\n",
        "train_data = data[:train_size]\n",
        "train_data = train_data.reshape(train_size, -1)\n",
        "\n",
        "val_targets = targets[train_size:]\n",
        "val_data = data[train_size:]\n",
        "val_data = val_data.reshape(val_size, -1)"
      ]
    },
    {
      "cell_type": "markdown",
      "metadata": {
        "id": "DtKItdn-iJFm"
      },
      "source": [
        "Now, we are ready to define our training framework.\n",
        "\n",
        "We will use simple 2 layers neural network with relu nonlinearity"
      ]
    },
    {
      "cell_type": "code",
      "execution_count": null,
      "metadata": {
        "id": "dM_8PtEtiJFn"
      },
      "outputs": [],
      "source": [
        "# For clarity, we will combine all layers in a single class\n",
        "# Although, in general, it is better to devote a separate class to each layer \n",
        "class TwoLayerNetwork:\n",
        "    def __init__(\n",
        "        self,\n",
        "        in_features: int = 28 * 28,\n",
        "        num_hidden: int = 512,\n",
        "        num_classes: int = 10,\n",
        "        std: float = 1e-4\n",
        "    ):\n",
        "        self.params = {}\n",
        "        self.params['W1'] = std * np.random.randn(in_features, num_hidden)\n",
        "        self.params['b1'] = np.zeros(num_hidden)\n",
        "        self.params['W2'] = std * np.random.randn(num_hidden, num_classes)\n",
        "        self.params['b2'] = np.zeros(num_classes)\n",
        "\n",
        "    @staticmethod\n",
        "    def relu(scores):\n",
        "        return scores.clip(min=0)\n",
        "\n",
        "    @staticmethod\n",
        "    def softmax(scores):\n",
        "        m = scores.max()\n",
        "        return np.exp(scores - m) / np.sum(np.exp(scores - m), 1)[:, None]\n",
        "    \n",
        "    def loss(\n",
        "        self,\n",
        "        x: np.ndarray,\n",
        "        y: np.ndarray\n",
        "    ) -> Tuple[float, Dict[str, np.ndarray]]:\n",
        "        \"\"\"\n",
        "        Compute the loss and gradients for a two layer fully connected neural\n",
        "        network.\n",
        "        \n",
        "        x: array of shape [BS, D].\n",
        "        y: array of shape [BS], where each value is between [0, NC)\n",
        "        \n",
        "        return:\n",
        "        loss: Loss for this batch of training\n",
        "          samples.\n",
        "        grads: Dictionary mapping parameter names to gradients of those parameters\n",
        "          with respect to the loss function; has the same keys as self.params.\n",
        "        \"\"\"\n",
        "        \n",
        "        W1, b1 = self.params['W1'], self.params['b1']\n",
        "        W2, b2 = self.params['W2'], self.params['b2']\n",
        "        N, _ = x.shape\n",
        "\n",
        "        # Forward pass\n",
        "        scores = x @ W1 + b1\n",
        "        scores_relu = self.relu(scores)\n",
        "        scores = scores_relu @ W2 + b2\n",
        "        soft_scores = self.softmax(scores)\n",
        "\n",
        "        # Loss computation\n",
        "        loss = 0.0\n",
        "        correct_soft_scores = soft_scores[range(x.shape[0]), y]\n",
        "        loss -= np.log(correct_soft_scores).sum()\n",
        "        loss /= N\n",
        "\n",
        "        # Backward pass\n",
        "        grads = {}\n",
        "        \n",
        "        # To read more about dL/dSoftmax computation\n",
        "        # you can check out following links:\n",
        "        # https://peterroelants.github.io/posts/cross-entropy-softmax/\n",
        "        # https://charlee.li/how-to-compute-the-derivative-of-softmax-and-cross-entropy/\n",
        "        soft_scores_deriv = soft_scores\n",
        "        soft_scores_deriv[range(N), y] -= 1\n",
        "\n",
        "        # 2nd layer backward pass\n",
        "        dW2 = scores_relu.T @ (soft_scores_deriv)\n",
        "        dW2 /= N\n",
        "        db2 = np.sum(soft_scores_deriv, 0)\n",
        "        db2 /= N\n",
        "        grads['W2'] = dW2\n",
        "        grads['b2'] = db2\n",
        "        \n",
        "        upward_relu_deriv = soft_scores_deriv @ W2.T\n",
        "        relu_deriv = np.where(scores_relu > 0, upward_relu_deriv, 0)\n",
        "\n",
        "        # 1st layer backward pass\n",
        "        dW1 = x.T @ relu_deriv\n",
        "        dW1 /= N\n",
        "        db1 = np.sum(relu_deriv, 0)\n",
        "        db1 /= N\n",
        "        grads['W1'] = dW1\n",
        "        grads['b1'] = db1\n",
        "\n",
        "        return loss, grads\n",
        "\n",
        "    def train(\n",
        "      self,\n",
        "      X: np.ndarray,\n",
        "      y: np.ndarray,\n",
        "      X_val: np.ndarray,\n",
        "      y_val: np.ndarray,\n",
        "      lr: float = 1e-3, \n",
        "      lr_decay=0.95,\n",
        "      num_iters: int = 100,\n",
        "      batch_size: int = 128,\n",
        "      verbose: bool = True) -> Dict[str, List[float]]:\n",
        "        \"\"\"\n",
        "        Train this neural network using stochastic gradient descent.\n",
        "        \n",
        "        X: A numpy array of shape (N, D) giving training data.\n",
        "        y: A numpy array f shape (N,) giving training labels; y[i] = c means that\n",
        "          X[i] has label c, where 0 <= c < C.\n",
        "        X_val: A numpy array of shape (N_val, D) giving validation data.\n",
        "        y_val: A numpy array of shape (N_val,) giving validation labels.\n",
        "        lr: Scalar giving learning rate for optimization.\n",
        "        lr_decay: Scalar giving factor used to decay the learning rate\n",
        "          after each epoch.\n",
        "        num_iters: Number of steps to take when optimizing.\n",
        "        batch_size: Number of training examples to use per step.\n",
        "        verbose: boolean; if true print progress during optimization.\n",
        "        \"\"\"\n",
        "        num_train = X.shape[0]\n",
        "        iterations_per_epoch = max(num_train / batch_size, 1)\n",
        "\n",
        "        loss_history = []\n",
        "        train_acc_history = []\n",
        "        val_acc_history = []\n",
        "        \n",
        "        for it in range(num_iters):\n",
        "            X_batch = None\n",
        "            y_batch = None\n",
        "\n",
        "            indices = np.random.choice(np.arange(X.shape[0]), batch_size)\n",
        "            X_batch = X[indices]\n",
        "            y_batch = y[indices]\n",
        "            \n",
        "            loss, grads = self.loss(X_batch, y=y_batch)\n",
        "            loss_history.append(loss)\n",
        "\n",
        "            for param_key in self.params.keys():\n",
        "                self.params[param_key] -= lr * grads[param_key]\n",
        "\n",
        "            if verbose and it % 100 == 0:\n",
        "                print('iteration %d / %d: loss %f' % (it, num_iters, loss))\n",
        "\n",
        "            if it % iterations_per_epoch == 0:\n",
        "                train_acc = (self.predict(X_batch) == y_batch).mean()\n",
        "                val_acc = (\n",
        "                  self.predict(X_val) == y_val\n",
        "                ).mean()\n",
        "                train_acc_history.append(train_acc)\n",
        "                val_acc_history.append(val_acc)\n",
        "\n",
        "                lr *= lr_decay\n",
        "\n",
        "        return {\n",
        "          'loss_history': loss_history,\n",
        "          'train_acc_history': train_acc_history,\n",
        "          'val_acc_history': val_acc_history,\n",
        "        }\n",
        "\n",
        "    def predict(self, X):\n",
        "        \"\"\"\n",
        "        Use the trained weights of this two-layer network to predict labels for\n",
        "        data points. For each data point we predict scores for each of the C\n",
        "        classes, and assign each data point to the class with the highest score.\n",
        "        \n",
        "        X: A numpy array of shape (N, D) giving N D-dimensional data points to\n",
        "          classify.\n",
        "        \n",
        "        Return:\n",
        "        y_pred: A numpy array of shape (N,) giving predicted labels for each of\n",
        "          the elements of X. For all i, y_pred[i] = c means that X[i] is predicted\n",
        "          to have class c, where 0 <= c < C.\n",
        "        \"\"\"\n",
        "        y_pred = None\n",
        "\n",
        "        W1, b1 = self.params['W1'], self.params['b1']\n",
        "        W2, b2 = self.params['W2'], self.params['b2']\n",
        "        \n",
        "        scores = X @ W1 + b1\n",
        "        scores = self.relu(scores)\n",
        "        scores = scores @ W2 + b2\n",
        "        y_pred = self.softmax(scores)\n",
        "\n",
        "        return np.array(y_pred.argmax(1))"
      ]
    },
    {
      "cell_type": "code",
      "execution_count": null,
      "metadata": {
        "colab": {
          "base_uri": "https://localhost:8080/"
        },
        "id": "2l2PS45piJFs",
        "outputId": "b5f3562a-806a-44dd-e3b0-9b141bd94d4e"
      },
      "outputs": [
        {
          "output_type": "stream",
          "name": "stdout",
          "text": [
            "iteration 0 / 3000: loss 2.302590\n",
            "iteration 100 / 3000: loss 0.632288\n",
            "iteration 200 / 3000: loss 0.292970\n",
            "iteration 300 / 3000: loss 0.205938\n",
            "iteration 400 / 3000: loss 0.119103\n",
            "iteration 500 / 3000: loss 0.080174\n",
            "iteration 600 / 3000: loss 0.077162\n",
            "iteration 700 / 3000: loss 0.053431\n",
            "iteration 800 / 3000: loss 0.032173\n",
            "iteration 900 / 3000: loss 0.026694\n",
            "iteration 1000 / 3000: loss 0.027650\n",
            "iteration 1100 / 3000: loss 0.019790\n",
            "iteration 1200 / 3000: loss 0.014257\n",
            "iteration 1300 / 3000: loss 0.013606\n",
            "iteration 1400 / 3000: loss 0.014907\n",
            "iteration 1500 / 3000: loss 0.012913\n",
            "iteration 1600 / 3000: loss 0.009804\n",
            "iteration 1700 / 3000: loss 0.009635\n",
            "iteration 1800 / 3000: loss 0.007473\n",
            "iteration 1900 / 3000: loss 0.007422\n",
            "iteration 2000 / 3000: loss 0.006189\n",
            "iteration 2100 / 3000: loss 0.005554\n",
            "iteration 2200 / 3000: loss 0.004184\n",
            "iteration 2300 / 3000: loss 0.007597\n",
            "iteration 2400 / 3000: loss 0.004523\n",
            "iteration 2500 / 3000: loss 0.006615\n",
            "iteration 2600 / 3000: loss 0.005416\n",
            "iteration 2700 / 3000: loss 0.005791\n",
            "iteration 2800 / 3000: loss 0.004832\n",
            "iteration 2900 / 3000: loss 0.004285\n",
            "Validation accuracy:  0.89\n"
          ]
        }
      ],
      "source": [
        "in_features = 28 * 28 \n",
        "num_hidden = 50\n",
        "num_classes = 10\n",
        "\n",
        "net = TwoLayerNetwork(in_features, num_hidden, num_classes)\n",
        "\n",
        "# Train the network\n",
        "stats = net.train(\n",
        "    train_data, train_targets, val_data, val_targets,\n",
        "    num_iters=3000, batch_size=256,\n",
        "    lr=0.001, lr_decay=0.95,verbose=True\n",
        ")\n",
        "\n",
        "# Predict on the validation set\n",
        "val_acc = (net.predict(val_data) == val_targets).mean()\n",
        "print('Validation accuracy: ', val_acc)"
      ]
    },
    {
      "cell_type": "code",
      "execution_count": null,
      "metadata": {
        "id": "1Y35hGUtiJFz",
        "outputId": "9f99fd47-58fc-4f49-ff68-5a26eaacaadb"
      },
      "outputs": [
        {
          "data": {
            "image/png": "[encoded data removed]",
            "text/plain": [
              "<Figure size 1440x576 with 2 Axes>"
            ]
          },
          "metadata": {
            "needs_background": "dark"
          },
          "output_type": "display_data"
        }
      ],
      "source": [
        "# Plot the loss function and train / validation accuracies\n",
        "_, ax = plt.subplots(2, 1, figsize=(20, 8))\n",
        "ax = ax.flatten()\n",
        "ax[0].plot(stats['loss_history'])\n",
        "ax[0].set_title('Loss history')\n",
        "ax[0].set_xlabel('Iteration')\n",
        "ax[0].set_ylabel('Loss')\n",
        "\n",
        "ax[1].plot(stats['train_acc_history'], label='train')\n",
        "ax[1].plot(stats['val_acc_history'], label='val')\n",
        "ax[1].set_title('Classification accuracy history')\n",
        "ax[1].set_xlabel('Epoch')\n",
        "ax[1].set_ylabel('Classification accuracy')\n",
        "plt.legend()\n",
        "plt.show()\n"
      ]
    },
    {
      "cell_type": "markdown",
      "metadata": {
        "id": "EzfHNyySiJF0"
      },
      "source": [
        "---"
      ]
    }
  ],
  "metadata": {
    "kernelspec": {
      "display_name": "Python 3.9.13 ('env': venv)",
      "language": "python",
      "name": "python3"
    },
    "language_info": {
      "codemirror_mode": {
        "name": "ipython",
        "version": 3
      },
      "file_extension": ".py",
      "mimetype": "text/x-python",
      "name": "python",
      "nbconvert_exporter": "python",
      "pygments_lexer": "ipython3",
      "version": "3.9.13"
    },
    "orig_nbformat": 4,
    "vscode": {
      "interpreter": {
        "hash": "e35e0beae6c00a0d4c47799eacd02a4a7eba920ec1459eee582701a40143f054"
      }
    },
    "colab": {
      "provenance": [],
      "include_colab_link": true
    },
    "widgets": {
      "application/vnd.jupyter.widget-state+json": {
        "0c2d7e0caa0d4a6787c3771dd9772af0": {
          "model_module": "@jupyter-widgets/controls",
          "model_name": "HBoxModel",
          "model_module_version": "1.5.0",
          "state": {
            "_dom_classes": [],
            "_model_module": "@jupyter-widgets/controls",
            "_model_module_version": "1.5.0",
            "_model_name": "HBoxModel",
            "_view_count": null,
            "_view_module": "@jupyter-widgets/controls",
            "_view_module_version": "1.5.0",
            "_view_name": "HBoxView",
            "box_style": "",
            "children": [
              "IPY_MODEL_e99a2a92eeb841bba08b16a51c39b518",
              "IPY_MODEL_78a2c73471c74356b9d2a822f385cbee",
              "IPY_MODEL_372ddfc095374bdf849c575839db1e1f"
            ],
            "layout": "IPY_MODEL_01cde1b6807144ab87bfd70ebc23ed5e"
          }
        },
        "e99a2a92eeb841bba08b16a51c39b518": {
          "model_module": "@jupyter-widgets/controls",
          "model_name": "HTMLModel",
          "model_module_version": "1.5.0",
          "state": {
            "_dom_classes": [],
            "_model_module": "@jupyter-widgets/controls",
            "_model_module_version": "1.5.0",
            "_model_name": "HTMLModel",
            "_view_count": null,
            "_view_module": "@jupyter-widgets/controls",
            "_view_module_version": "1.5.0",
            "_view_name": "HTMLView",
            "description": "",
            "description_tooltip": null,
            "layout": "IPY_MODEL_f9e2014ad8d440669af6d48286dd4e4b",
            "placeholder": "​",
            "style": "IPY_MODEL_040de66000b34867ba8daeb9693af95a",
            "value": "100%"
          }
        },
        "78a2c73471c74356b9d2a822f385cbee": {
          "model_module": "@jupyter-widgets/controls",
          "model_name": "FloatProgressModel",
          "model_module_version": "1.5.0",
          "state": {
            "_dom_classes": [],
            "_model_module": "@jupyter-widgets/controls",
            "_model_module_version": "1.5.0",
            "_model_name": "FloatProgressModel",
            "_view_count": null,
            "_view_module": "@jupyter-widgets/controls",
            "_view_module_version": "1.5.0",
            "_view_name": "ProgressView",
            "bar_style": "success",
            "description": "",
            "description_tooltip": null,
            "layout": "IPY_MODEL_cd4366b3d9fb4c1dbca75fc0d751812d",
            "max": 9912422,
            "min": 0,
            "orientation": "horizontal",
            "style": "IPY_MODEL_412f3e41f3c2422b9fc7f59766728e14",
            "value": 9912422
          }
        },
        "372ddfc095374bdf849c575839db1e1f": {
          "model_module": "@jupyter-widgets/controls",
          "model_name": "HTMLModel",
          "model_module_version": "1.5.0",
          "state": {
            "_dom_classes": [],
            "_model_module": "@jupyter-widgets/controls",
            "_model_module_version": "1.5.0",
            "_model_name": "HTMLModel",
            "_view_count": null,
            "_view_module": "@jupyter-widgets/controls",
            "_view_module_version": "1.5.0",
            "_view_name": "HTMLView",
            "description": "",
            "description_tooltip": null,
            "layout": "IPY_MODEL_4358a677d63843698b6cee0916ff9f37",
            "placeholder": "​",
            "style": "IPY_MODEL_bfef640e4fbb46159b38977178087f4c",
            "value": " 9912422/9912422 [00:00&lt;00:00, 47229985.46it/s]"
          }
        },
        "01cde1b6807144ab87bfd70ebc23ed5e": {
          "model_module": "@jupyter-widgets/base",
          "model_name": "LayoutModel",
          "model_module_version": "1.2.0",
          "state": {
            "_model_module": "@jupyter-widgets/base",
            "_model_module_version": "1.2.0",
            "_model_name": "LayoutModel",
            "_view_count": null,
            "_view_module": "@jupyter-widgets/base",
            "_view_module_version": "1.2.0",
            "_view_name": "LayoutView",
            "align_content": null,
            "align_items": null,
            "align_self": null,
            "border": null,
            "bottom": null,
            "display": null,
            "flex": null,
            "flex_flow": null,
            "grid_area": null,
            "grid_auto_columns": null,
            "grid_auto_flow": null,
            "grid_auto_rows": null,
            "grid_column": null,
            "grid_gap": null,
            "grid_row": null,
            "grid_template_areas": null,
            "grid_template_columns": null,
            "grid_template_rows": null,
            "height": null,
            "justify_content": null,
            "justify_items": null,
            "left": null,
            "margin": null,
            "max_height": null,
            "max_width": null,
            "min_height": null,
            "min_width": null,
            "object_fit": null,
            "object_position": null,
            "order": null,
            "overflow": null,
            "overflow_x": null,
            "overflow_y": null,
            "padding": null,
            "right": null,
            "top": null,
            "visibility": null,
            "width": null
          }
        },
        "f9e2014ad8d440669af6d48286dd4e4b": {
          "model_module": "@jupyter-widgets/base",
          "model_name": "LayoutModel",
          "model_module_version": "1.2.0",
          "state": {
            "_model_module": "@jupyter-widgets/base",
            "_model_module_version": "1.2.0",
            "_model_name": "LayoutModel",
            "_view_count": null,
            "_view_module": "@jupyter-widgets/base",
            "_view_module_version": "1.2.0",
            "_view_name": "LayoutView",
            "align_content": null,
            "align_items": null,
            "align_self": null,
            "border": null,
            "bottom": null,
            "display": null,
            "flex": null,
            "flex_flow": null,
            "grid_area": null,
            "grid_auto_columns": null,
            "grid_auto_flow": null,
            "grid_auto_rows": null,
            "grid_column": null,
            "grid_gap": null,
            "grid_row": null,
            "grid_template_areas": null,
            "grid_template_columns": null,
            "grid_template_rows": null,
            "height": null,
            "justify_content": null,
            "justify_items": null,
            "left": null,
            "margin": null,
            "max_height": null,
            "max_width": null,
            "min_height": null,
            "min_width": null,
            "object_fit": null,
            "object_position": null,
            "order": null,
            "overflow": null,
            "overflow_x": null,
            "overflow_y": null,
            "padding": null,
            "right": null,
            "top": null,
            "visibility": null,
            "width": null
          }
        },
        "040de66000b34867ba8daeb9693af95a": {
          "model_module": "@jupyter-widgets/controls",
          "model_name": "DescriptionStyleModel",
          "model_module_version": "1.5.0",
          "state": {
            "_model_module": "@jupyter-widgets/controls",
            "_model_module_version": "1.5.0",
            "_model_name": "DescriptionStyleModel",
            "_view_count": null,
            "_view_module": "@jupyter-widgets/base",
            "_view_module_version": "1.2.0",
            "_view_name": "StyleView",
            "description_width": ""
          }
        },
        "cd4366b3d9fb4c1dbca75fc0d751812d": {
          "model_module": "@jupyter-widgets/base",
          "model_name": "LayoutModel",
          "model_module_version": "1.2.0",
          "state": {
            "_model_module": "@jupyter-widgets/base",
            "_model_module_version": "1.2.0",
            "_model_name": "LayoutModel",
            "_view_count": null,
            "_view_module": "@jupyter-widgets/base",
            "_view_module_version": "1.2.0",
            "_view_name": "LayoutView",
            "align_content": null,
            "align_items": null,
            "align_self": null,
            "border": null,
            "bottom": null,
            "display": null,
            "flex": null,
            "flex_flow": null,
            "grid_area": null,
            "grid_auto_columns": null,
            "grid_auto_flow": null,
            "grid_auto_rows": null,
            "grid_column": null,
            "grid_gap": null,
            "grid_row": null,
            "grid_template_areas": null,
            "grid_template_columns": null,
            "grid_template_rows": null,
            "height": null,
            "justify_content": null,
            "justify_items": null,
            "left": null,
            "margin": null,
            "max_height": null,
            "max_width": null,
            "min_height": null,
            "min_width": null,
            "object_fit": null,
            "object_position": null,
            "order": null,
            "overflow": null,
            "overflow_x": null,
            "overflow_y": null,
            "padding": null,
            "right": null,
            "top": null,
            "visibility": null,
            "width": null
          }
        },
        "412f3e41f3c2422b9fc7f59766728e14": {
          "model_module": "@jupyter-widgets/controls",
          "model_name": "ProgressStyleModel",
          "model_module_version": "1.5.0",
          "state": {
            "_model_module": "@jupyter-widgets/controls",
            "_model_module_version": "1.5.0",
            "_model_name": "ProgressStyleModel",
            "_view_count": null,
            "_view_module": "@jupyter-widgets/base",
            "_view_module_version": "1.2.0",
            "_view_name": "StyleView",
            "bar_color": null,
            "description_width": ""
          }
        },
        "4358a677d63843698b6cee0916ff9f37": {
          "model_module": "@jupyter-widgets/base",
          "model_name": "LayoutModel",
          "model_module_version": "1.2.0",
          "state": {
            "_model_module": "@jupyter-widgets/base",
            "_model_module_version": "1.2.0",
            "_model_name": "LayoutModel",
            "_view_count": null,
            "_view_module": "@jupyter-widgets/base",
            "_view_module_version": "1.2.0",
            "_view_name": "LayoutView",
            "align_content": null,
            "align_items": null,
            "align_self": null,
            "border": null,
            "bottom": null,
            "display": null,
            "flex": null,
            "flex_flow": null,
            "grid_area": null,
            "grid_auto_columns": null,
            "grid_auto_flow": null,
            "grid_auto_rows": null,
            "grid_column": null,
            "grid_gap": null,
            "grid_row": null,
            "grid_template_areas": null,
            "grid_template_columns": null,
            "grid_template_rows": null,
            "height": null,
            "justify_content": null,
            "justify_items": null,
            "left": null,
            "margin": null,
            "max_height": null,
            "max_width": null,
            "min_height": null,
            "min_width": null,
            "object_fit": null,
            "object_position": null,
            "order": null,
            "overflow": null,
            "overflow_x": null,
            "overflow_y": null,
            "padding": null,
            "right": null,
            "top": null,
            "visibility": null,
            "width": null
          }
        },
        "bfef640e4fbb46159b38977178087f4c": {
          "model_module": "@jupyter-widgets/controls",
          "model_name": "DescriptionStyleModel",
          "model_module_version": "1.5.0",
          "state": {
            "_model_module": "@jupyter-widgets/controls",
            "_model_module_version": "1.5.0",
            "_model_name": "DescriptionStyleModel",
            "_view_count": null,
            "_view_module": "@jupyter-widgets/base",
            "_view_module_version": "1.2.0",
            "_view_name": "StyleView",
            "description_width": ""
          }
        },
        "9fa3c5aae3a740d394defd2596b527f2": {
          "model_module": "@jupyter-widgets/controls",
          "model_name": "HBoxModel",
          "model_module_version": "1.5.0",
          "state": {
            "_dom_classes": [],
            "_model_module": "@jupyter-widgets/controls",
            "_model_module_version": "1.5.0",
            "_model_name": "HBoxModel",
            "_view_count": null,
            "_view_module": "@jupyter-widgets/controls",
            "_view_module_version": "1.5.0",
            "_view_name": "HBoxView",
            "box_style": "",
            "children": [
              "IPY_MODEL_82eedc97e13d481aa28c5bfe10ae8ffc",
              "IPY_MODEL_8023e4d2eaab4887b45a23df815eb165",
              "IPY_MODEL_54665cb756914647b578f4d604bc697b"
            ],
            "layout": "IPY_MODEL_f8607a66fd454534a90a999d8415e97d"
          }
        },
        "82eedc97e13d481aa28c5bfe10ae8ffc": {
          "model_module": "@jupyter-widgets/controls",
          "model_name": "HTMLModel",
          "model_module_version": "1.5.0",
          "state": {
            "_dom_classes": [],
            "_model_module": "@jupyter-widgets/controls",
            "_model_module_version": "1.5.0",
            "_model_name": "HTMLModel",
            "_view_count": null,
            "_view_module": "@jupyter-widgets/controls",
            "_view_module_version": "1.5.0",
            "_view_name": "HTMLView",
            "description": "",
            "description_tooltip": null,
            "layout": "IPY_MODEL_32e8f75cc3c44055968ee14bd193474c",
            "placeholder": "​",
            "style": "IPY_MODEL_b1124ca5221e41228ee1b77c231fd98f",
            "value": "100%"
          }
        },
        "8023e4d2eaab4887b45a23df815eb165": {
          "model_module": "@jupyter-widgets/controls",
          "model_name": "FloatProgressModel",
          "model_module_version": "1.5.0",
          "state": {
            "_dom_classes": [],
            "_model_module": "@jupyter-widgets/controls",
            "_model_module_version": "1.5.0",
            "_model_name": "FloatProgressModel",
            "_view_count": null,
            "_view_module": "@jupyter-widgets/controls",
            "_view_module_version": "1.5.0",
            "_view_name": "ProgressView",
            "bar_style": "success",
            "description": "",
            "description_tooltip": null,
            "layout": "IPY_MODEL_e70ef2e26f2d460ea3503b38ba60ac91",
            "max": 28881,
            "min": 0,
            "orientation": "horizontal",
            "style": "IPY_MODEL_57ae6f8dcf644a47ac58c8afac4a467a",
            "value": 28881
          }
        },
        "54665cb756914647b578f4d604bc697b": {
          "model_module": "@jupyter-widgets/controls",
          "model_name": "HTMLModel",
          "model_module_version": "1.5.0",
          "state": {
            "_dom_classes": [],
            "_model_module": "@jupyter-widgets/controls",
            "_model_module_version": "1.5.0",
            "_model_name": "HTMLModel",
            "_view_count": null,
            "_view_module": "@jupyter-widgets/controls",
            "_view_module_version": "1.5.0",
            "_view_name": "HTMLView",
            "description": "",
            "description_tooltip": null,
            "layout": "IPY_MODEL_c5b0a62c70cc4caf9b87a51d6828dbf3",
            "placeholder": "​",
            "style": "IPY_MODEL_31b77342e7a44daeb17b6a47e589d9a3",
            "value": " 28881/28881 [00:00&lt;00:00, 802680.29it/s]"
          }
        },
        "f8607a66fd454534a90a999d8415e97d": {
          "model_module": "@jupyter-widgets/base",
          "model_name": "LayoutModel",
          "model_module_version": "1.2.0",
          "state": {
            "_model_module": "@jupyter-widgets/base",
            "_model_module_version": "1.2.0",
            "_model_name": "LayoutModel",
            "_view_count": null,
            "_view_module": "@jupyter-widgets/base",
            "_view_module_version": "1.2.0",
            "_view_name": "LayoutView",
            "align_content": null,
            "align_items": null,
            "align_self": null,
            "border": null,
            "bottom": null,
            "display": null,
            "flex": null,
            "flex_flow": null,
            "grid_area": null,
            "grid_auto_columns": null,
            "grid_auto_flow": null,
            "grid_auto_rows": null,
            "grid_column": null,
            "grid_gap": null,
            "grid_row": null,
            "grid_template_areas": null,
            "grid_template_columns": null,
            "grid_template_rows": null,
            "height": null,
            "justify_content": null,
            "justify_items": null,
            "left": null,
            "margin": null,
            "max_height": null,
            "max_width": null,
            "min_height": null,
            "min_width": null,
            "object_fit": null,
            "object_position": null,
            "order": null,
            "overflow": null,
            "overflow_x": null,
            "overflow_y": null,
            "padding": null,
            "right": null,
            "top": null,
            "visibility": null,
            "width": null
          }
        },
        "32e8f75cc3c44055968ee14bd193474c": {
          "model_module": "@jupyter-widgets/base",
          "model_name": "LayoutModel",
          "model_module_version": "1.2.0",
          "state": {
            "_model_module": "@jupyter-widgets/base",
            "_model_module_version": "1.2.0",
            "_model_name": "LayoutModel",
            "_view_count": null,
            "_view_module": "@jupyter-widgets/base",
            "_view_module_version": "1.2.0",
            "_view_name": "LayoutView",
            "align_content": null,
            "align_items": null,
            "align_self": null,
            "border": null,
            "bottom": null,
            "display": null,
            "flex": null,
            "flex_flow": null,
            "grid_area": null,
            "grid_auto_columns": null,
            "grid_auto_flow": null,
            "grid_auto_rows": null,
            "grid_column": null,
            "grid_gap": null,
            "grid_row": null,
            "grid_template_areas": null,
            "grid_template_columns": null,
            "grid_template_rows": null,
            "height": null,
            "justify_content": null,
            "justify_items": null,
            "left": null,
            "margin": null,
            "max_height": null,
            "max_width": null,
            "min_height": null,
            "min_width": null,
            "object_fit": null,
            "object_position": null,
            "order": null,
            "overflow": null,
            "overflow_x": null,
            "overflow_y": null,
            "padding": null,
            "right": null,
            "top": null,
            "visibility": null,
            "width": null
          }
        },
        "b1124ca5221e41228ee1b77c231fd98f": {
          "model_module": "@jupyter-widgets/controls",
          "model_name": "DescriptionStyleModel",
          "model_module_version": "1.5.0",
          "state": {
            "_model_module": "@jupyter-widgets/controls",
            "_model_module_version": "1.5.0",
            "_model_name": "DescriptionStyleModel",
            "_view_count": null,
            "_view_module": "@jupyter-widgets/base",
            "_view_module_version": "1.2.0",
            "_view_name": "StyleView",
            "description_width": ""
          }
        },
        "e70ef2e26f2d460ea3503b38ba60ac91": {
          "model_module": "@jupyter-widgets/base",
          "model_name": "LayoutModel",
          "model_module_version": "1.2.0",
          "state": {
            "_model_module": "@jupyter-widgets/base",
            "_model_module_version": "1.2.0",
            "_model_name": "LayoutModel",
            "_view_count": null,
            "_view_module": "@jupyter-widgets/base",
            "_view_module_version": "1.2.0",
            "_view_name": "LayoutView",
            "align_content": null,
            "align_items": null,
            "align_self": null,
            "border": null,
            "bottom": null,
            "display": null,
            "flex": null,
            "flex_flow": null,
            "grid_area": null,
            "grid_auto_columns": null,
            "grid_auto_flow": null,
            "grid_auto_rows": null,
            "grid_column": null,
            "grid_gap": null,
            "grid_row": null,
            "grid_template_areas": null,
            "grid_template_columns": null,
            "grid_template_rows": null,
            "height": null,
            "justify_content": null,
            "justify_items": null,
            "left": null,
            "margin": null,
            "max_height": null,
            "max_width": null,
            "min_height": null,
            "min_width": null,
            "object_fit": null,
            "object_position": null,
            "order": null,
            "overflow": null,
            "overflow_x": null,
            "overflow_y": null,
            "padding": null,
            "right": null,
            "top": null,
            "visibility": null,
            "width": null
          }
        },
        "57ae6f8dcf644a47ac58c8afac4a467a": {
          "model_module": "@jupyter-widgets/controls",
          "model_name": "ProgressStyleModel",
          "model_module_version": "1.5.0",
          "state": {
            "_model_module": "@jupyter-widgets/controls",
            "_model_module_version": "1.5.0",
            "_model_name": "ProgressStyleModel",
            "_view_count": null,
            "_view_module": "@jupyter-widgets/base",
            "_view_module_version": "1.2.0",
            "_view_name": "StyleView",
            "bar_color": null,
            "description_width": ""
          }
        },
        "c5b0a62c70cc4caf9b87a51d6828dbf3": {
          "model_module": "@jupyter-widgets/base",
          "model_name": "LayoutModel",
          "model_module_version": "1.2.0",
          "state": {
            "_model_module": "@jupyter-widgets/base",
            "_model_module_version": "1.2.0",
            "_model_name": "LayoutModel",
            "_view_count": null,
            "_view_module": "@jupyter-widgets/base",
            "_view_module_version": "1.2.0",
            "_view_name": "LayoutView",
            "align_content": null,
            "align_items": null,
            "align_self": null,
            "border": null,
            "bottom": null,
            "display": null,
            "flex": null,
            "flex_flow": null,
            "grid_area": null,
            "grid_auto_columns": null,
            "grid_auto_flow": null,
            "grid_auto_rows": null,
            "grid_column": null,
            "grid_gap": null,
            "grid_row": null,
            "grid_template_areas": null,
            "grid_template_columns": null,
            "grid_template_rows": null,
            "height": null,
            "justify_content": null,
            "justify_items": null,
            "left": null,
            "margin": null,
            "max_height": null,
            "max_width": null,
            "min_height": null,
            "min_width": null,
            "object_fit": null,
            "object_position": null,
            "order": null,
            "overflow": null,
            "overflow_x": null,
            "overflow_y": null,
            "padding": null,
            "right": null,
            "top": null,
            "visibility": null,
            "width": null
          }
        },
        "31b77342e7a44daeb17b6a47e589d9a3": {
          "model_module": "@jupyter-widgets/controls",
          "model_name": "DescriptionStyleModel",
          "model_module_version": "1.5.0",
          "state": {
            "_model_module": "@jupyter-widgets/controls",
            "_model_module_version": "1.5.0",
            "_model_name": "DescriptionStyleModel",
            "_view_count": null,
            "_view_module": "@jupyter-widgets/base",
            "_view_module_version": "1.2.0",
            "_view_name": "StyleView",
            "description_width": ""
          }
        },
        "bee95a9086e6413cba8edd90d3907ab3": {
          "model_module": "@jupyter-widgets/controls",
          "model_name": "HBoxModel",
          "model_module_version": "1.5.0",
          "state": {
            "_dom_classes": [],
            "_model_module": "@jupyter-widgets/controls",
            "_model_module_version": "1.5.0",
            "_model_name": "HBoxModel",
            "_view_count": null,
            "_view_module": "@jupyter-widgets/controls",
            "_view_module_version": "1.5.0",
            "_view_name": "HBoxView",
            "box_style": "",
            "children": [
              "IPY_MODEL_086b3a5cfc724b5590f95c28688c582c",
              "IPY_MODEL_2f4056a882664c2899020dd143c1bf9f",
              "IPY_MODEL_ebca3f0bb7694b6ab13b840cdc733cad"
            ],
            "layout": "IPY_MODEL_11ef6bc00ea74fb1a9b7997d06c4a432"
          }
        },
        "086b3a5cfc724b5590f95c28688c582c": {
          "model_module": "@jupyter-widgets/controls",
          "model_name": "HTMLModel",
          "model_module_version": "1.5.0",
          "state": {
            "_dom_classes": [],
            "_model_module": "@jupyter-widgets/controls",
            "_model_module_version": "1.5.0",
            "_model_name": "HTMLModel",
            "_view_count": null,
            "_view_module": "@jupyter-widgets/controls",
            "_view_module_version": "1.5.0",
            "_view_name": "HTMLView",
            "description": "",
            "description_tooltip": null,
            "layout": "IPY_MODEL_0f9b59743e424b78a3530376fcc68056",
            "placeholder": "​",
            "style": "IPY_MODEL_dae1d81dde594149b79de7c5f6366d06",
            "value": "100%"
          }
        },
        "2f4056a882664c2899020dd143c1bf9f": {
          "model_module": "@jupyter-widgets/controls",
          "model_name": "FloatProgressModel",
          "model_module_version": "1.5.0",
          "state": {
            "_dom_classes": [],
            "_model_module": "@jupyter-widgets/controls",
            "_model_module_version": "1.5.0",
            "_model_name": "FloatProgressModel",
            "_view_count": null,
            "_view_module": "@jupyter-widgets/controls",
            "_view_module_version": "1.5.0",
            "_view_name": "ProgressView",
            "bar_style": "success",
            "description": "",
            "description_tooltip": null,
            "layout": "IPY_MODEL_064493e0eb61424f87a8410a22dc1e8b",
            "max": 1648877,
            "min": 0,
            "orientation": "horizontal",
            "style": "IPY_MODEL_cce7a321dc314eee8831d9f9b619ccc4",
            "value": 1648877
          }
        },
        "ebca3f0bb7694b6ab13b840cdc733cad": {
          "model_module": "@jupyter-widgets/controls",
          "model_name": "HTMLModel",
          "model_module_version": "1.5.0",
          "state": {
            "_dom_classes": [],
            "_model_module": "@jupyter-widgets/controls",
            "_model_module_version": "1.5.0",
            "_model_name": "HTMLModel",
            "_view_count": null,
            "_view_module": "@jupyter-widgets/controls",
            "_view_module_version": "1.5.0",
            "_view_name": "HTMLView",
            "description": "",
            "description_tooltip": null,
            "layout": "IPY_MODEL_b6b3e17a36cd4fa79f7c6bb22367a44e",
            "placeholder": "​",
            "style": "IPY_MODEL_9b1caa8f03ee4dfda7cbb537f6ad4a04",
            "value": " 1648877/1648877 [00:00&lt;00:00, 8795349.19it/s]"
          }
        },
        "11ef6bc00ea74fb1a9b7997d06c4a432": {
          "model_module": "@jupyter-widgets/base",
          "model_name": "LayoutModel",
          "model_module_version": "1.2.0",
          "state": {
            "_model_module": "@jupyter-widgets/base",
            "_model_module_version": "1.2.0",
            "_model_name": "LayoutModel",
            "_view_count": null,
            "_view_module": "@jupyter-widgets/base",
            "_view_module_version": "1.2.0",
            "_view_name": "LayoutView",
            "align_content": null,
            "align_items": null,
            "align_self": null,
            "border": null,
            "bottom": null,
            "display": null,
            "flex": null,
            "flex_flow": null,
            "grid_area": null,
            "grid_auto_columns": null,
            "grid_auto_flow": null,
            "grid_auto_rows": null,
            "grid_column": null,
            "grid_gap": null,
            "grid_row": null,
            "grid_template_areas": null,
            "grid_template_columns": null,
            "grid_template_rows": null,
            "height": null,
            "justify_content": null,
            "justify_items": null,
            "left": null,
            "margin": null,
            "max_height": null,
            "max_width": null,
            "min_height": null,
            "min_width": null,
            "object_fit": null,
            "object_position": null,
            "order": null,
            "overflow": null,
            "overflow_x": null,
            "overflow_y": null,
            "padding": null,
            "right": null,
            "top": null,
            "visibility": null,
            "width": null
          }
        },
        "0f9b59743e424b78a3530376fcc68056": {
          "model_module": "@jupyter-widgets/base",
          "model_name": "LayoutModel",
          "model_module_version": "1.2.0",
          "state": {
            "_model_module": "@jupyter-widgets/base",
            "_model_module_version": "1.2.0",
            "_model_name": "LayoutModel",
            "_view_count": null,
            "_view_module": "@jupyter-widgets/base",
            "_view_module_version": "1.2.0",
            "_view_name": "LayoutView",
            "align_content": null,
            "align_items": null,
            "align_self": null,
            "border": null,
            "bottom": null,
            "display": null,
            "flex": null,
            "flex_flow": null,
            "grid_area": null,
            "grid_auto_columns": null,
            "grid_auto_flow": null,
            "grid_auto_rows": null,
            "grid_column": null,
            "grid_gap": null,
            "grid_row": null,
            "grid_template_areas": null,
            "grid_template_columns": null,
            "grid_template_rows": null,
            "height": null,
            "justify_content": null,
            "justify_items": null,
            "left": null,
            "margin": null,
            "max_height": null,
            "max_width": null,
            "min_height": null,
            "min_width": null,
            "object_fit": null,
            "object_position": null,
            "order": null,
            "overflow": null,
            "overflow_x": null,
            "overflow_y": null,
            "padding": null,
            "right": null,
            "top": null,
            "visibility": null,
            "width": null
          }
        },
        "dae1d81dde594149b79de7c5f6366d06": {
          "model_module": "@jupyter-widgets/controls",
          "model_name": "DescriptionStyleModel",
          "model_module_version": "1.5.0",
          "state": {
            "_model_module": "@jupyter-widgets/controls",
            "_model_module_version": "1.5.0",
            "_model_name": "DescriptionStyleModel",
            "_view_count": null,
            "_view_module": "@jupyter-widgets/base",
            "_view_module_version": "1.2.0",
            "_view_name": "StyleView",
            "description_width": ""
          }
        },
        "064493e0eb61424f87a8410a22dc1e8b": {
          "model_module": "@jupyter-widgets/base",
          "model_name": "LayoutModel",
          "model_module_version": "1.2.0",
          "state": {
            "_model_module": "@jupyter-widgets/base",
            "_model_module_version": "1.2.0",
            "_model_name": "LayoutModel",
            "_view_count": null,
            "_view_module": "@jupyter-widgets/base",
            "_view_module_version": "1.2.0",
            "_view_name": "LayoutView",
            "align_content": null,
            "align_items": null,
            "align_self": null,
            "border": null,
            "bottom": null,
            "display": null,
            "flex": null,
            "flex_flow": null,
            "grid_area": null,
            "grid_auto_columns": null,
            "grid_auto_flow": null,
            "grid_auto_rows": null,
            "grid_column": null,
            "grid_gap": null,
            "grid_row": null,
            "grid_template_areas": null,
            "grid_template_columns": null,
            "grid_template_rows": null,
            "height": null,
            "justify_content": null,
            "justify_items": null,
            "left": null,
            "margin": null,
            "max_height": null,
            "max_width": null,
            "min_height": null,
            "min_width": null,
            "object_fit": null,
            "object_position": null,
            "order": null,
            "overflow": null,
            "overflow_x": null,
            "overflow_y": null,
            "padding": null,
            "right": null,
            "top": null,
            "visibility": null,
            "width": null
          }
        },
        "cce7a321dc314eee8831d9f9b619ccc4": {
          "model_module": "@jupyter-widgets/controls",
          "model_name": "ProgressStyleModel",
          "model_module_version": "1.5.0",
          "state": {
            "_model_module": "@jupyter-widgets/controls",
            "_model_module_version": "1.5.0",
            "_model_name": "ProgressStyleModel",
            "_view_count": null,
            "_view_module": "@jupyter-widgets/base",
            "_view_module_version": "1.2.0",
            "_view_name": "StyleView",
            "bar_color": null,
            "description_width": ""
          }
        },
        "b6b3e17a36cd4fa79f7c6bb22367a44e": {
          "model_module": "@jupyter-widgets/base",
          "model_name": "LayoutModel",
          "model_module_version": "1.2.0",
          "state": {
            "_model_module": "@jupyter-widgets/base",
            "_model_module_version": "1.2.0",
            "_model_name": "LayoutModel",
            "_view_count": null,
            "_view_module": "@jupyter-widgets/base",
            "_view_module_version": "1.2.0",
            "_view_name": "LayoutView",
            "align_content": null,
            "align_items": null,
            "align_self": null,
            "border": null,
            "bottom": null,
            "display": null,
            "flex": null,
            "flex_flow": null,
            "grid_area": null,
            "grid_auto_columns": null,
            "grid_auto_flow": null,
            "grid_auto_rows": null,
            "grid_column": null,
            "grid_gap": null,
            "grid_row": null,
            "grid_template_areas": null,
            "grid_template_columns": null,
            "grid_template_rows": null,
            "height": null,
            "justify_content": null,
            "justify_items": null,
            "left": null,
            "margin": null,
            "max_height": null,
            "max_width": null,
            "min_height": null,
            "min_width": null,
            "object_fit": null,
            "object_position": null,
            "order": null,
            "overflow": null,
            "overflow_x": null,
            "overflow_y": null,
            "padding": null,
            "right": null,
            "top": null,
            "visibility": null,
            "width": null
          }
        },
        "9b1caa8f03ee4dfda7cbb537f6ad4a04": {
          "model_module": "@jupyter-widgets/controls",
          "model_name": "DescriptionStyleModel",
          "model_module_version": "1.5.0",
          "state": {
            "_model_module": "@jupyter-widgets/controls",
            "_model_module_version": "1.5.0",
            "_model_name": "DescriptionStyleModel",
            "_view_count": null,
            "_view_module": "@jupyter-widgets/base",
            "_view_module_version": "1.2.0",
            "_view_name": "StyleView",
            "description_width": ""
          }
        },
        "b51bbf6934df441bb3867eea82aafac8": {
          "model_module": "@jupyter-widgets/controls",
          "model_name": "HBoxModel",
          "model_module_version": "1.5.0",
          "state": {
            "_dom_classes": [],
            "_model_module": "@jupyter-widgets/controls",
            "_model_module_version": "1.5.0",
            "_model_name": "HBoxModel",
            "_view_count": null,
            "_view_module": "@jupyter-widgets/controls",
            "_view_module_version": "1.5.0",
            "_view_name": "HBoxView",
            "box_style": "",
            "children": [
              "IPY_MODEL_290ec50fe09e42298ec9627a5dc77819",
              "IPY_MODEL_d4732e768f3448ddb46466b7c2791669",
              "IPY_MODEL_defbe5c1606f4463a8aa6ca2c1085d9b"
            ],
            "layout": "IPY_MODEL_bf99b491333c41f88b651c3f67ce150f"
          }
        },
        "290ec50fe09e42298ec9627a5dc77819": {
          "model_module": "@jupyter-widgets/controls",
          "model_name": "HTMLModel",
          "model_module_version": "1.5.0",
          "state": {
            "_dom_classes": [],
            "_model_module": "@jupyter-widgets/controls",
            "_model_module_version": "1.5.0",
            "_model_name": "HTMLModel",
            "_view_count": null,
            "_view_module": "@jupyter-widgets/controls",
            "_view_module_version": "1.5.0",
            "_view_name": "HTMLView",
            "description": "",
            "description_tooltip": null,
            "layout": "IPY_MODEL_6ab81d1e5db54447a002b91dcd7ef1fa",
            "placeholder": "​",
            "style": "IPY_MODEL_50d80c8e5d31491aacdb40490e63b12b",
            "value": "100%"
          }
        },
        "d4732e768f3448ddb46466b7c2791669": {
          "model_module": "@jupyter-widgets/controls",
          "model_name": "FloatProgressModel",
          "model_module_version": "1.5.0",
          "state": {
            "_dom_classes": [],
            "_model_module": "@jupyter-widgets/controls",
            "_model_module_version": "1.5.0",
            "_model_name": "FloatProgressModel",
            "_view_count": null,
            "_view_module": "@jupyter-widgets/controls",
            "_view_module_version": "1.5.0",
            "_view_name": "ProgressView",
            "bar_style": "success",
            "description": "",
            "description_tooltip": null,
            "layout": "IPY_MODEL_4c8d1fbf61d042d9aecb4075347bc91c",
            "max": 4542,
            "min": 0,
            "orientation": "horizontal",
            "style": "IPY_MODEL_8074875101fa4d2d982c4ef346ec50fe",
            "value": 4542
          }
        },
        "defbe5c1606f4463a8aa6ca2c1085d9b": {
          "model_module": "@jupyter-widgets/controls",
          "model_name": "HTMLModel",
          "model_module_version": "1.5.0",
          "state": {
            "_dom_classes": [],
            "_model_module": "@jupyter-widgets/controls",
            "_model_module_version": "1.5.0",
            "_model_name": "HTMLModel",
            "_view_count": null,
            "_view_module": "@jupyter-widgets/controls",
            "_view_module_version": "1.5.0",
            "_view_name": "HTMLView",
            "description": "",
            "description_tooltip": null,
            "layout": "IPY_MODEL_be422dc51b9b4acd9b31e5f593f44812",
            "placeholder": "​",
            "style": "IPY_MODEL_8cc08b85b7f14e6fb57a6be266a409ce",
            "value": " 4542/4542 [00:00&lt;00:00, 94045.10it/s]"
          }
        },
        "bf99b491333c41f88b651c3f67ce150f": {
          "model_module": "@jupyter-widgets/base",
          "model_name": "LayoutModel",
          "model_module_version": "1.2.0",
          "state": {
            "_model_module": "@jupyter-widgets/base",
            "_model_module_version": "1.2.0",
            "_model_name": "LayoutModel",
            "_view_count": null,
            "_view_module": "@jupyter-widgets/base",
            "_view_module_version": "1.2.0",
            "_view_name": "LayoutView",
            "align_content": null,
            "align_items": null,
            "align_self": null,
            "border": null,
            "bottom": null,
            "display": null,
            "flex": null,
            "flex_flow": null,
            "grid_area": null,
            "grid_auto_columns": null,
            "grid_auto_flow": null,
            "grid_auto_rows": null,
            "grid_column": null,
            "grid_gap": null,
            "grid_row": null,
            "grid_template_areas": null,
            "grid_template_columns": null,
            "grid_template_rows": null,
            "height": null,
            "justify_content": null,
            "justify_items": null,
            "left": null,
            "margin": null,
            "max_height": null,
            "max_width": null,
            "min_height": null,
            "min_width": null,
            "object_fit": null,
            "object_position": null,
            "order": null,
            "overflow": null,
            "overflow_x": null,
            "overflow_y": null,
            "padding": null,
            "right": null,
            "top": null,
            "visibility": null,
            "width": null
          }
        },
        "6ab81d1e5db54447a002b91dcd7ef1fa": {
          "model_module": "@jupyter-widgets/base",
          "model_name": "LayoutModel",
          "model_module_version": "1.2.0",
          "state": {
            "_model_module": "@jupyter-widgets/base",
            "_model_module_version": "1.2.0",
            "_model_name": "LayoutModel",
            "_view_count": null,
            "_view_module": "@jupyter-widgets/base",
            "_view_module_version": "1.2.0",
            "_view_name": "LayoutView",
            "align_content": null,
            "align_items": null,
            "align_self": null,
            "border": null,
            "bottom": null,
            "display": null,
            "flex": null,
            "flex_flow": null,
            "grid_area": null,
            "grid_auto_columns": null,
            "grid_auto_flow": null,
            "grid_auto_rows": null,
            "grid_column": null,
            "grid_gap": null,
            "grid_row": null,
            "grid_template_areas": null,
            "grid_template_columns": null,
            "grid_template_rows": null,
            "height": null,
            "justify_content": null,
            "justify_items": null,
            "left": null,
            "margin": null,
            "max_height": null,
            "max_width": null,
            "min_height": null,
            "min_width": null,
            "object_fit": null,
            "object_position": null,
            "order": null,
            "overflow": null,
            "overflow_x": null,
            "overflow_y": null,
            "padding": null,
            "right": null,
            "top": null,
            "visibility": null,
            "width": null
          }
        },
        "50d80c8e5d31491aacdb40490e63b12b": {
          "model_module": "@jupyter-widgets/controls",
          "model_name": "DescriptionStyleModel",
          "model_module_version": "1.5.0",
          "state": {
            "_model_module": "@jupyter-widgets/controls",
            "_model_module_version": "1.5.0",
            "_model_name": "DescriptionStyleModel",
            "_view_count": null,
            "_view_module": "@jupyter-widgets/base",
            "_view_module_version": "1.2.0",
            "_view_name": "StyleView",
            "description_width": ""
          }
        },
        "4c8d1fbf61d042d9aecb4075347bc91c": {
          "model_module": "@jupyter-widgets/base",
          "model_name": "LayoutModel",
          "model_module_version": "1.2.0",
          "state": {
            "_model_module": "@jupyter-widgets/base",
            "_model_module_version": "1.2.0",
            "_model_name": "LayoutModel",
            "_view_count": null,
            "_view_module": "@jupyter-widgets/base",
            "_view_module_version": "1.2.0",
            "_view_name": "LayoutView",
            "align_content": null,
            "align_items": null,
            "align_self": null,
            "border": null,
            "bottom": null,
            "display": null,
            "flex": null,
            "flex_flow": null,
            "grid_area": null,
            "grid_auto_columns": null,
            "grid_auto_flow": null,
            "grid_auto_rows": null,
            "grid_column": null,
            "grid_gap": null,
            "grid_row": null,
            "grid_template_areas": null,
            "grid_template_columns": null,
            "grid_template_rows": null,
            "height": null,
            "justify_content": null,
            "justify_items": null,
            "left": null,
            "margin": null,
            "max_height": null,
            "max_width": null,
            "min_height": null,
            "min_width": null,
            "object_fit": null,
            "object_position": null,
            "order": null,
            "overflow": null,
            "overflow_x": null,
            "overflow_y": null,
            "padding": null,
            "right": null,
            "top": null,
            "visibility": null,
            "width": null
          }
        },
        "8074875101fa4d2d982c4ef346ec50fe": {
          "model_module": "@jupyter-widgets/controls",
          "model_name": "ProgressStyleModel",
          "model_module_version": "1.5.0",
          "state": {
            "_model_module": "@jupyter-widgets/controls",
            "_model_module_version": "1.5.0",
            "_model_name": "ProgressStyleModel",
            "_view_count": null,
            "_view_module": "@jupyter-widgets/base",
            "_view_module_version": "1.2.0",
            "_view_name": "StyleView",
            "bar_color": null,
            "description_width": ""
          }
        },
        "be422dc51b9b4acd9b31e5f593f44812": {
          "model_module": "@jupyter-widgets/base",
          "model_name": "LayoutModel",
          "model_module_version": "1.2.0",
          "state": {
            "_model_module": "@jupyter-widgets/base",
            "_model_module_version": "1.2.0",
            "_model_name": "LayoutModel",
            "_view_count": null,
            "_view_module": "@jupyter-widgets/base",
            "_view_module_version": "1.2.0",
            "_view_name": "LayoutView",
            "align_content": null,
            "align_items": null,
            "align_self": null,
            "border": null,
            "bottom": null,
            "display": null,
            "flex": null,
            "flex_flow": null,
            "grid_area": null,
            "grid_auto_columns": null,
            "grid_auto_flow": null,
            "grid_auto_rows": null,
            "grid_column": null,
            "grid_gap": null,
            "grid_row": null,
            "grid_template_areas": null,
            "grid_template_columns": null,
            "grid_template_rows": null,
            "height": null,
            "justify_content": null,
            "justify_items": null,
            "left": null,
            "margin": null,
            "max_height": null,
            "max_width": null,
            "min_height": null,
            "min_width": null,
            "object_fit": null,
            "object_position": null,
            "order": null,
            "overflow": null,
            "overflow_x": null,
            "overflow_y": null,
            "padding": null,
            "right": null,
            "top": null,
            "visibility": null,
            "width": null
          }
        },
        "8cc08b85b7f14e6fb57a6be266a409ce": {
          "model_module": "@jupyter-widgets/controls",
          "model_name": "DescriptionStyleModel",
          "model_module_version": "1.5.0",
          "state": {
            "_model_module": "@jupyter-widgets/controls",
            "_model_module_version": "1.5.0",
            "_model_name": "DescriptionStyleModel",
            "_view_count": null,
            "_view_module": "@jupyter-widgets/base",
            "_view_module_version": "1.2.0",
            "_view_name": "StyleView",
            "description_width": ""
          }
        }
      }
    }
  },
  "nbformat": 4,
  "nbformat_minor": 0
}