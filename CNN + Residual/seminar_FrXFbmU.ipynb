{
  "cells": [
    {
      "cell_type": "markdown",
      "metadata": {
        "id": "view-in-github",
        "colab_type": "text"
      },
      "source": [
        "<a href=\"https://colab.research.google.com/github/kazars24/tinkoff-dl-fall22/blob/main/CNN%20%2B%20Residual/seminar_FrXFbmU.ipynb\" target=\"_parent\"><img src=\"https://colab.research.google.com/assets/colab-badge.svg\" alt=\"Open In Colab\"/></a>"
      ]
    },
    {
      "cell_type": "markdown",
      "metadata": {
        "id": "B6Trz_OgC9M9"
      },
      "source": [
        "## Convolution neural networks practice"
      ]
    },
    {
      "cell_type": "code",
      "execution_count": 3,
      "metadata": {
        "colab": {
          "base_uri": "https://localhost:8080/",
          "height": 53
        },
        "id": "WQIXBG_2C9NO",
        "outputId": "9b247f76-0647-48f8-f4b4-e94cb0c11657"
      },
      "outputs": [
        {
          "output_type": "execute_result",
          "data": {
            "text/plain": [
              "'\\nif sys.version_info.minor < 8:\\n    print(f\"torchvision.__version__={torch.__version__}\")\\n    print(f\"torch.__version__={torchvision.__version__}\")\\nelse:\\n    print(f\"{torch.__version__=}\")\\n    print(f\"{torchvision.__version__=}\")\\n'"
            ],
            "application/vnd.google.colaboratory.intrinsic+json": {
              "type": "string"
            }
          },
          "metadata": {},
          "execution_count": 3
        }
      ],
      "source": [
        "import sys\n",
        "\n",
        "import torch\n",
        "from torch.nn import functional\n",
        "import torchvision\n",
        "\n",
        "import numpy as np\n",
        "import matplotlib.pyplot as plt\n",
        "from tqdm import tqdm\n",
        "from typing import Callable, NamedTuple, List\n",
        "from collections import namedtuple\n",
        "\n",
        "\n",
        "plt.style.use('dark_background')\n",
        "\n",
        "'''\n",
        "if sys.version_info.minor < 8:\n",
        "    print(f\"torchvision.__version__={torch.__version__}\")\n",
        "    print(f\"torch.__version__={torchvision.__version__}\")\n",
        "else:\n",
        "    print(f\"{torch.__version__=}\")\n",
        "    print(f\"{torchvision.__version__=}\")\n",
        "'''"
      ]
    },
    {
      "cell_type": "markdown",
      "metadata": {
        "id": "YUWW9kCqC9NT"
      },
      "source": [
        "### Convolution Layer"
      ]
    },
    {
      "cell_type": "code",
      "execution_count": null,
      "metadata": {
        "id": "52Dm5uZoC9NU"
      },
      "outputs": [],
      "source": [
        "# help(torch.nn.Conv2d)"
      ]
    },
    {
      "cell_type": "markdown",
      "metadata": {
        "id": "NnHNNxAXC9NW"
      },
      "source": [
        "![convolution](misc/no_padding_no_strides.gif)"
      ]
    },
    {
      "cell_type": "code",
      "execution_count": 4,
      "metadata": {
        "colab": {
          "base_uri": "https://localhost:8080/"
        },
        "id": "SsRkcwzvC9NW",
        "outputId": "08fb1851-c75c-4cca-bb48-73dd574f6621"
      },
      "outputs": [
        {
          "output_type": "stream",
          "name": "stdout",
          "text": [
            "Convolution, # of params\n",
            "Weight: 36\n",
            "Bias: 4\n",
            "Output shape: torch.Size([1, 4, 14, 14])\n"
          ]
        }
      ],
      "source": [
        "batch_size, channel_size, height, width = (1, 1, 16, 16)\n",
        "out_channels, kernel_size, padding, stride = (4, 3, 0, 1)\n",
        "example_input: torch.Tensor = torch.randn(batch_size, channel_size, height, width)\n",
        "\n",
        "convolution: torch.nn.Module = torch.nn.Conv2d(\n",
        "    in_channels=channel_size,\n",
        "    out_channels=out_channels,\n",
        "    kernel_size=kernel_size,\n",
        "    padding=padding,\n",
        "    stride=stride\n",
        ")\n",
        "print(f\"Convolution, # of params\")\n",
        "print(f\"Weight: {convolution.weight.numel()}\")\n",
        "print(f\"Bias: {convolution.bias.numel()}\")\n",
        "\n",
        "output: torch.Tensor = convolution(example_input)\n",
        "\n",
        "print(f\"Output shape: {output.shape}\")"
      ]
    },
    {
      "cell_type": "markdown",
      "metadata": {
        "id": "UZVVmI_QC9NY"
      },
      "source": [
        "Learnable parameters are objects of a class `torch.nn.Parameter`\n",
        "\n",
        "To access parameters directly, a method `data` must be called"
      ]
    },
    {
      "cell_type": "code",
      "execution_count": 5,
      "metadata": {
        "colab": {
          "base_uri": "https://localhost:8080/"
        },
        "id": "Ds0kE7EBC9Na",
        "outputId": "a7a92555-1959-4bbe-8096-f9861c5a5d80"
      },
      "outputs": [
        {
          "output_type": "stream",
          "name": "stdout",
          "text": [
            "weight and bias types are: <class 'torch.nn.parameter.Parameter'>, <class 'torch.nn.parameter.Parameter'>\n",
            "weight.data and bias.data types are: <class 'torch.Tensor'>, <class 'torch.Tensor'>\n",
            "Corresponding shapes are:torch.Size([4, 1, 3, 3]) and torch.Size([4])\n"
          ]
        }
      ],
      "source": [
        "print(\n",
        "    f\"weight and bias types are: \"\n",
        "    f\"{type(convolution.weight)}, {type(convolution.bias)}\"\n",
        ")\n",
        "print(\n",
        "    f\"weight.data and bias.data types are:\"\n",
        "    f\" {type(convolution.weight.data)}, {type(convolution.bias.data)}\"\n",
        ")\n",
        "print(\n",
        "    f\"Corresponding shapes are:\"\n",
        "    f\"{convolution.weight.data.shape} and {convolution.bias.data.shape}\"\n",
        ")"
      ]
    },
    {
      "cell_type": "markdown",
      "metadata": {
        "id": "X89NwyXyC9Nc"
      },
      "source": [
        "Another way to convolve tensor with a kernel is to use functional style:"
      ]
    },
    {
      "cell_type": "code",
      "execution_count": 6,
      "metadata": {
        "colab": {
          "base_uri": "https://localhost:8080/"
        },
        "id": "FwUztGgVC9Nd",
        "outputId": "1901cd5e-602f-4cb8-b280-449d1538e2a2"
      },
      "outputs": [
        {
          "output_type": "stream",
          "name": "stdout",
          "text": [
            "Gradients are required (parameters): False, False\n",
            "Gradients are required (input): False\n",
            "Output shape: torch.Size([1, 4, 14, 14])\n"
          ]
        }
      ],
      "source": [
        "example_kernel: torch.Tensor = torch.randn(out_channels, channel_size, kernel_size, kernel_size)\n",
        "example_bias: torch.Tensor = torch.randn(out_channels)\n",
        "\n",
        "# in order to optimize weights through gradient descent, you need to turn on gradient evaluation\n",
        "# example_kernel.requires_grad_()\n",
        "# example_bias.requires_grad_()\n",
        "print(\n",
        "    f\"Gradients are required (parameters): \"\n",
        "    f\"{example_kernel.requires_grad}, {example_bias.requires_grad}\"\n",
        ")\n",
        "print(f\"Gradients are required (input): {example_input.requires_grad}\")\n",
        "\n",
        "output: torch.Tensor = functional.conv2d(\n",
        "    example_input,\n",
        "    example_kernel,\n",
        "    bias=example_bias,\n",
        "    padding=padding,\n",
        "    stride=stride\n",
        ")\n",
        "\n",
        "print(f\"Output shape: {output.shape}\")"
      ]
    },
    {
      "cell_type": "markdown",
      "metadata": {
        "id": "QbY7kMh_C9Nf"
      },
      "source": [
        "Let's compare two ways of calculations, to make sure that results are the same"
      ]
    },
    {
      "cell_type": "code",
      "execution_count": 7,
      "metadata": {
        "id": "ITyMNXrkC9Ng"
      },
      "outputs": [],
      "source": [
        "kernel = convolution.weight.data.detach().clone()\n",
        "bias = convolution.bias.data.detach().clone()\n",
        "\n",
        "output1 = convolution(example_input)\n",
        "output2 = functional.conv2d(\n",
        "    example_input,\n",
        "    kernel,\n",
        "    bias=bias,\n",
        "    padding=padding,\n",
        "    stride=stride\n",
        ")\n",
        "\n",
        "assert torch.allclose(output1, output2, atol=1e-7), \"Results aren't the same\""
      ]
    },
    {
      "cell_type": "markdown",
      "metadata": {
        "id": "ekTBBmIDC9Ni"
      },
      "source": [
        "#### Padding"
      ]
    },
    {
      "cell_type": "markdown",
      "metadata": {
        "id": "D-bOaX11C9Nj"
      },
      "source": [
        "![padding](misc/convolution.gif)"
      ]
    },
    {
      "cell_type": "code",
      "execution_count": 8,
      "metadata": {
        "colab": {
          "base_uri": "https://localhost:8080/"
        },
        "id": "0XLz6vAmC9Nk",
        "outputId": "d875fdab-41a7-43d5-d7e4-d74029255408"
      },
      "outputs": [
        {
          "output_type": "stream",
          "name": "stdout",
          "text": [
            "Input shape: torch.Size([1, 1, 16, 16])\n",
            "Output shape: torch.Size([1, 4, 16, 16])\n"
          ]
        }
      ],
      "source": [
        "batch_size, channel_size, height, width = (1, 1, 16, 16)\n",
        "out_channels, kernel_size, padding, stride = (4, 3, 1, 1)\n",
        "example_input: torch.Tensor = torch.randn(batch_size, channel_size, height, width)\n",
        "\n",
        "convolution: torch.nn.Module = torch.nn.Conv2d(\n",
        "    in_channels=channel_size,\n",
        "    out_channels=out_channels,\n",
        "    kernel_size=kernel_size,\n",
        "    padding=padding,\n",
        "    stride=stride\n",
        ")\n",
        "\n",
        "output: torch.Tensor = convolution(example_input)\n",
        "print(f\"Input shape: {example_input.shape}\")\n",
        "print(f\"Output shape: {output.shape}\")"
      ]
    },
    {
      "cell_type": "markdown",
      "metadata": {
        "id": "86zeDhy3C9Nl"
      },
      "source": [
        "#### Strides"
      ]
    },
    {
      "cell_type": "markdown",
      "metadata": {
        "id": "k1XR0SkAC9Nl"
      },
      "source": [
        "![strides](misc/no_padding_strides.gif)"
      ]
    },
    {
      "cell_type": "code",
      "execution_count": 9,
      "metadata": {
        "colab": {
          "base_uri": "https://localhost:8080/"
        },
        "id": "GqbqzAobC9Nm",
        "outputId": "1c7e5738-4ccc-4a06-dc40-2c95d28e3f82"
      },
      "outputs": [
        {
          "output_type": "stream",
          "name": "stdout",
          "text": [
            "Input shape: torch.Size([1, 1, 16, 16])\n",
            "Output shape: torch.Size([1, 4, 8, 8])\n"
          ]
        }
      ],
      "source": [
        "batch_size, channel_size, height, width = (1, 1, 16, 16)\n",
        "out_channels, kernel_size, padding, stride = (4, 3, 1, 2)\n",
        "example_input: torch.Tensor = torch.randn(batch_size, channel_size, height, width)\n",
        "\n",
        "convolution: torch.nn.Module = torch.nn.Conv2d(\n",
        "    in_channels=channel_size,\n",
        "    out_channels=out_channels,\n",
        "    kernel_size=kernel_size,\n",
        "    padding=padding,\n",
        "    stride=stride\n",
        ")\n",
        "\n",
        "output: torch.Tensor = convolution(example_input)\n",
        "print(f\"Input shape: {example_input.shape}\")\n",
        "print(f\"Output shape: {output.shape}\")"
      ]
    },
    {
      "cell_type": "markdown",
      "metadata": {
        "id": "Dx6Exh4pC9Nn"
      },
      "source": [
        "Strides and paddings don't have to be same on each side. For example:"
      ]
    },
    {
      "cell_type": "code",
      "execution_count": 10,
      "metadata": {
        "colab": {
          "base_uri": "https://localhost:8080/"
        },
        "id": "5sLUYkU3C9No",
        "outputId": "c03654f3-bb32-4197-bb88-63f6ef350c6a"
      },
      "outputs": [
        {
          "output_type": "stream",
          "name": "stdout",
          "text": [
            "Input shape: torch.Size([1, 1, 16, 16])\n",
            "Output shape: torch.Size([1, 4, 8, 14])\n"
          ]
        }
      ],
      "source": [
        "padding = (1, 0)\n",
        "stride = (2, 1)\n",
        "\n",
        "convolution: torch.nn.Module = torch.nn.Conv2d(\n",
        "    in_channels=channel_size,\n",
        "    out_channels=out_channels,\n",
        "    kernel_size=kernel_size,\n",
        "    padding=padding,\n",
        "    stride=stride\n",
        ")\n",
        "\n",
        "output: torch.Tensor = convolution(example_input)\n",
        "print(f\"Input shape: {example_input.shape}\")\n",
        "print(f\"Output shape: {output.shape}\")"
      ]
    },
    {
      "cell_type": "markdown",
      "metadata": {
        "id": "T6mf6CLCC9Np"
      },
      "source": [
        "#### Dilated convolution"
      ]
    },
    {
      "cell_type": "markdown",
      "metadata": {
        "id": "c8Hx08pJC9Nq"
      },
      "source": [
        "![dilated](misc/dilated_convolution.gif)"
      ]
    },
    {
      "cell_type": "code",
      "execution_count": 11,
      "metadata": {
        "colab": {
          "base_uri": "https://localhost:8080/"
        },
        "id": "cm4mZ1h3C9Nq",
        "outputId": "f64de8c8-2bc8-4f4b-e6e5-a3f2d4673e1c"
      },
      "outputs": [
        {
          "output_type": "stream",
          "name": "stdout",
          "text": [
            "tensor([[[[1., 2., 3., 4., 5., 6., 7.],\n",
            "          [1., 2., 3., 4., 5., 6., 7.],\n",
            "          [1., 2., 3., 4., 5., 6., 7.],\n",
            "          [1., 2., 3., 4., 5., 6., 7.],\n",
            "          [1., 2., 3., 4., 5., 6., 7.],\n",
            "          [1., 2., 3., 4., 5., 6., 7.],\n",
            "          [1., 2., 3., 4., 5., 6., 7.]]]])\n"
          ]
        }
      ],
      "source": [
        "example_input = torch.tensor([[[[i + 1 for i in range(7)] for _ in range(7)]]]).float()\n",
        "\n",
        "print(example_input)"
      ]
    },
    {
      "cell_type": "code",
      "execution_count": 12,
      "metadata": {
        "colab": {
          "base_uri": "https://localhost:8080/"
        },
        "id": "MJuRTiLtC9Nr",
        "outputId": "b7a607f8-aac2-407e-ed22-5f14d450c790"
      },
      "outputs": [
        {
          "output_type": "stream",
          "name": "stdout",
          "text": [
            "tensor([[[[27., 36., 45.],\n",
            "          [27., 36., 45.],\n",
            "          [27., 36., 45.]]]])\n"
          ]
        }
      ],
      "source": [
        "dilated_convolution: torch.nn.Module = torch.nn.Conv2d(\n",
        "    in_channels=1,\n",
        "    out_channels=1,\n",
        "    kernel_size=3,\n",
        "    padding=0,\n",
        "    stride=1,\n",
        "    dilation=2,\n",
        "    bias=False\n",
        ")\n",
        "\n",
        "dilated_convolution.weight.data = torch.ones(1, 1, 3, 3)\n",
        "\n",
        "print(dilated_convolution(example_input).detach())"
      ]
    },
    {
      "cell_type": "markdown",
      "metadata": {
        "id": "UDU_eO2LC9Ns"
      },
      "source": [
        "---"
      ]
    },
    {
      "cell_type": "markdown",
      "metadata": {
        "id": "-38-eDc7C9Nt"
      },
      "source": [
        "### Pooling"
      ]
    },
    {
      "cell_type": "markdown",
      "metadata": {
        "id": "0vZvYTRgC9Nt"
      },
      "source": [
        "![pooling](misc/pooling.gif)"
      ]
    },
    {
      "cell_type": "markdown",
      "metadata": {
        "id": "roq9FAHGC9Nu"
      },
      "source": [
        "There are 2 main types of pooling\n",
        "- Adaptive Pooling\n",
        "- Max Pooling"
      ]
    },
    {
      "cell_type": "code",
      "execution_count": 13,
      "metadata": {
        "colab": {
          "base_uri": "https://localhost:8080/"
        },
        "id": "2b3YzLMpC9Nv",
        "outputId": "18d5a76c-e73d-44d0-cd11-30e5218891df"
      },
      "outputs": [
        {
          "output_type": "stream",
          "name": "stdout",
          "text": [
            "tensor([[[[1., 2., 3.],\n",
            "          [1., 2., 3.],\n",
            "          [1., 2., 3.]]]])\n"
          ]
        }
      ],
      "source": [
        "example_input = torch.tensor([[[[1,2,3], [1,2,3], [1, 2, 3]]]]).float()\n",
        "\n",
        "print(example_input)"
      ]
    },
    {
      "cell_type": "code",
      "execution_count": 14,
      "metadata": {
        "colab": {
          "base_uri": "https://localhost:8080/"
        },
        "id": "jfoM7qmdC9Nw",
        "outputId": "b4917724-1b72-49d7-af7c-799b19e8da56"
      },
      "outputs": [
        {
          "output_type": "stream",
          "name": "stdout",
          "text": [
            "tensor([[[[1.5000, 2.5000],\n",
            "          [1.5000, 2.5000]]]])\n"
          ]
        }
      ],
      "source": [
        "pooling = torch.nn.AvgPool2d(kernel_size=(2, 2), stride=(1, 1), padding=(0, 0))\n",
        "# or functional style\n",
        "# functional.avg_pool2d()\n",
        "\n",
        "print(pooling(example_input))"
      ]
    },
    {
      "cell_type": "code",
      "execution_count": 15,
      "metadata": {
        "colab": {
          "base_uri": "https://localhost:8080/"
        },
        "id": "fKDztlPSC9Nx",
        "outputId": "3072f4ec-d601-455b-dd38-26b12acde06e"
      },
      "outputs": [
        {
          "output_type": "stream",
          "name": "stdout",
          "text": [
            "tensor([[[[2., 3.],\n",
            "          [2., 3.]]]])\n"
          ]
        }
      ],
      "source": [
        "pooling = torch.nn.MaxPool2d(kernel_size=(2, 2), stride=(1, 1), padding=(0, 0))\n",
        "# or functional style\n",
        "# functional.max_pool2d()\n",
        "\n",
        "print(pooling(example_input))"
      ]
    },
    {
      "cell_type": "markdown",
      "metadata": {
        "id": "ueb7vOpJC9Nx"
      },
      "source": [
        "---"
      ]
    },
    {
      "cell_type": "markdown",
      "metadata": {
        "id": "zPDcWpdfC9Ny"
      },
      "source": [
        "### Activation functions"
      ]
    },
    {
      "cell_type": "markdown",
      "metadata": {
        "id": "7Mt1Ak3QC9Ny"
      },
      "source": [
        "#### Sigmoid\n",
        "\n",
        "$\\sigma(x) = \\frac{1}{1 + e^{-x}}$"
      ]
    },
    {
      "cell_type": "code",
      "execution_count": 16,
      "metadata": {
        "colab": {
          "base_uri": "https://localhost:8080/",
          "height": 282
        },
        "id": "PfF5I5ixC9Nz",
        "outputId": "97c1837e-dbe2-4416-8e1d-d1d5d84b9948"
      },
      "outputs": [
        {
          "output_type": "display_data",
          "data": {
            "text/plain": [
              "<Figure size 432x288 with 1 Axes>"
            ],
            "image/png": "[encoded data removed]"
          },
          "metadata": {}
        }
      ],
      "source": [
        "def plot_activation(\n",
        "    func_name: str,\n",
        "    activation: Callable[[float], float]\n",
        "):\n",
        "    \n",
        "    plt.axhline(c='.2')\n",
        "    plt.axvline(color='.2')\n",
        "    plt.grid(c='.1', ls='--')\n",
        "\n",
        "    \n",
        "    z = torch.linspace(-7.5, 7.5, 100)\n",
        "    plt.plot(z, activation(z))\n",
        "    plt.title(func_name)\n",
        "    plt.show()\n",
        "\n",
        "plot_activation(\"$\\sigma$ function\", torch.sigmoid)"
      ]
    },
    {
      "cell_type": "markdown",
      "metadata": {
        "id": "pVHUXTJSC9Nz"
      },
      "source": [
        "#### SoftPlus\n",
        "\n",
        "$Softplus(x) = \\frac{1}{\\beta}log(1 + e^{\\beta * x})$"
      ]
    },
    {
      "cell_type": "code",
      "execution_count": 17,
      "metadata": {
        "colab": {
          "base_uri": "https://localhost:8080/",
          "height": 281
        },
        "id": "7zwcAPO0C9N0",
        "outputId": "37ed17ea-b5b2-4fee-be78-067f6db763d6"
      },
      "outputs": [
        {
          "output_type": "display_data",
          "data": {
            "text/plain": [
              "<Figure size 432x288 with 1 Axes>"
            ],
            "image/png": "[encoded data removed]"
          },
          "metadata": {}
        }
      ],
      "source": [
        "plot_activation(\"softplus function\", torch.nn.Softplus())"
      ]
    },
    {
      "cell_type": "markdown",
      "metadata": {
        "id": "jTmHScREC9N1"
      },
      "source": [
        "#### ReLU\n",
        "\n",
        "$R(x) = max(0, x)$"
      ]
    },
    {
      "cell_type": "code",
      "execution_count": 18,
      "metadata": {
        "colab": {
          "base_uri": "https://localhost:8080/",
          "height": 281
        },
        "id": "Du2eSxwWC9N1",
        "outputId": "2ef6c4c0-178d-4e7a-dccd-61f2bf34eb10"
      },
      "outputs": [
        {
          "output_type": "display_data",
          "data": {
            "text/plain": [
              "<Figure size 432x288 with 1 Axes>"
            ],
            "image/png": "[encoded data removed]"
          },
          "metadata": {}
        }
      ],
      "source": [
        "plot_activation(\"ReLU function\", torch.nn.ReLU())"
      ]
    },
    {
      "cell_type": "markdown",
      "metadata": {
        "id": "S35jfc_8C9N2"
      },
      "source": [
        "#### Sigmoid Linear Unit\n",
        "\n",
        "$silu(x) = x * \\sigma(x)$\n"
      ]
    },
    {
      "cell_type": "code",
      "execution_count": 19,
      "metadata": {
        "colab": {
          "base_uri": "https://localhost:8080/",
          "height": 281
        },
        "id": "p4iZ8lVAC9N2",
        "outputId": "45bd570d-686c-4778-8652-baf0bd12cfec"
      },
      "outputs": [
        {
          "output_type": "display_data",
          "data": {
            "text/plain": [
              "<Figure size 432x288 with 1 Axes>"
            ],
            "image/png": "[encoded data removed]"
          },
          "metadata": {}
        }
      ],
      "source": [
        "plot_activation(\"silu function\", torch.nn.SiLU())"
      ]
    },
    {
      "cell_type": "markdown",
      "metadata": {
        "id": "IUFdD-gHC9N3"
      },
      "source": [
        "#### Mish\n",
        "\n",
        "$Mish(x)=x*Tanh(Softplus(x))$"
      ]
    },
    {
      "cell_type": "code",
      "execution_count": 20,
      "metadata": {
        "colab": {
          "base_uri": "https://localhost:8080/",
          "height": 281
        },
        "id": "vIjmPCI1C9N3",
        "outputId": "ca43f3f9-bc53-49d8-916f-d1c2aa9429ef"
      },
      "outputs": [
        {
          "output_type": "display_data",
          "data": {
            "text/plain": [
              "<Figure size 432x288 with 1 Axes>"
            ],
            "image/png": "[encoded data removed]"
          },
          "metadata": {}
        }
      ],
      "source": [
        "plot_activation(\"mish function\", torch.nn.Mish())"
      ]
    },
    {
      "cell_type": "markdown",
      "metadata": {
        "id": "ErRh3ReTC9N4"
      },
      "source": [
        "There are many more activation functions. You can check them out, for example, there: [link](https://pytorch.org/docs/stable/nn.html#non-linear-activations-weighted-sum-nonlinearity)\n"
      ]
    },
    {
      "cell_type": "markdown",
      "metadata": {
        "id": "nG1iKmq-C9N4"
      },
      "source": [
        "---"
      ]
    },
    {
      "cell_type": "markdown",
      "metadata": {
        "id": "4Swi_4WpC9N4"
      },
      "source": [
        "## Residual connections\n",
        "### ResNets\n",
        "[paper](https://arxiv.org/pdf/1512.03385.pdf)"
      ]
    },
    {
      "cell_type": "markdown",
      "metadata": {
        "id": "NurxFQtLC9N5"
      },
      "source": [
        "![residual](misc/residual.png)"
      ]
    },
    {
      "cell_type": "code",
      "execution_count": 21,
      "metadata": {
        "id": "0cTvk0-ZC9N5"
      },
      "outputs": [],
      "source": [
        "class BasicBlock(torch.nn.Module):\n",
        "    def __init__(\n",
        "        self,\n",
        "        in_channels: int,\n",
        "        out_channels: int\n",
        "    ):\n",
        "        super().__init__()\n",
        "        self.conv1 = torch.nn.Conv2d(\n",
        "            in_channels,\n",
        "            out_channels,\n",
        "            kernel_size=3,\n",
        "            padding=1\n",
        "        )\n",
        "        self.conv2 = torch.nn.Conv2d(\n",
        "            out_channels,\n",
        "            out_channels,\n",
        "            kernel_size=3,\n",
        "            padding=1\n",
        "        )\n",
        "        self.relu = torch.nn.ReLU(inplace=True)\n",
        "    \n",
        "    def forward(self, x: torch.Tensor) -> torch.Tensor:\n",
        "        out = self.conv1(x)\n",
        "        out = self.relu(out)\n",
        "        out = self.conv2(out)\n",
        "        return out\n",
        "\n",
        "\n",
        "class ResidualBlock(torch.nn.Module):\n",
        "    def __init__(\n",
        "        self,\n",
        "        in_channels: int,\n",
        "        out_channels: int\n",
        "    ):\n",
        "        super().__init__()\n",
        "        self.basic = BasicBlock(in_channels, out_channels)\n",
        "        if in_channels != out_channels:\n",
        "            self.downsample = torch.nn.Conv2d(\n",
        "                in_channels,\n",
        "                out_channels,\n",
        "                kernel_size=1\n",
        "            )\n",
        "        else:\n",
        "            self.downsample = None\n",
        "        self.relu = torch.nn.ReLU(inplace=True)\n",
        "    def forward(self, x: torch.Tensor) -> torch.Tensor:\n",
        "        identity = x\n",
        "\n",
        "        out = self.basic(x)\n",
        "        \n",
        "        if self.downsample is not None:\n",
        "            identity = self.downsample(identity)\n",
        "\n",
        "        out += identity\n",
        "        out = self.relu(out)\n",
        "\n",
        "        return out"
      ]
    },
    {
      "cell_type": "markdown",
      "metadata": {
        "id": "3Rt7Reg5C9N6"
      },
      "source": [
        "You can see implementation [here](https://github.com/pytorch/vision/blob/main/torchvision/models/resnet.py)"
      ]
    },
    {
      "cell_type": "code",
      "execution_count": 22,
      "metadata": {
        "colab": {
          "base_uri": "https://localhost:8080/"
        },
        "id": "M8Id9ifTC9N6",
        "outputId": "65ea1c21-133b-401f-82ec-93cd0503ec58"
      },
      "outputs": [
        {
          "output_type": "stream",
          "name": "stdout",
          "text": [
            "Input shape: torch.Size([1, 3, 256, 256])\n",
            "Output shape: torch.Size([1, 16, 256, 256])\n"
          ]
        }
      ],
      "source": [
        "example_input = torch.randn(1, 3, 256, 256)\n",
        "block = ResidualBlock(3, 16)\n",
        "\n",
        "output = block(example_input)\n",
        "\n",
        "print(f\"Input shape: {example_input.shape}\")\n",
        "print(f\"Output shape: {output.shape}\")"
      ]
    },
    {
      "cell_type": "markdown",
      "metadata": {
        "id": "pcLGj947C9N7"
      },
      "source": [
        "---"
      ]
    },
    {
      "cell_type": "markdown",
      "metadata": {
        "id": "woIihx8_C9N7"
      },
      "source": [
        "## Training MNIST"
      ]
    },
    {
      "cell_type": "code",
      "execution_count": 24,
      "metadata": {
        "colab": {
          "base_uri": "https://localhost:8080/",
          "height": 35
        },
        "id": "qKVUZSyEC9N7",
        "outputId": "1d5aed09-6711-4cf8-f848-ec6b65be1f4d"
      },
      "outputs": [
        {
          "output_type": "execute_result",
          "data": {
            "text/plain": [
              "'\\nif sys.version_info.minor < 8:\\n    print(f\"device={device}\")\\nelse:\\n    print(f\"{device=}\")\\n'"
            ],
            "application/vnd.google.colaboratory.intrinsic+json": {
              "type": "string"
            }
          },
          "metadata": {},
          "execution_count": 24
        }
      ],
      "source": [
        "# Chose appropriate device: \"cpu\", \"cuda\" or \"mps\"\n",
        "\n",
        "device: torch.device\n",
        "\n",
        "if torch.cuda.is_available():\n",
        "    device = torch.device(\"cuda\")\n",
        "elif int(torch.__version__.split(\".\")[1]) >= 12 and torch.backends.mps.is_available():\n",
        "    device = torch.device(\"mps\")\n",
        "else:\n",
        "    device = torch.device(\"cpu\")\n",
        "'''\n",
        "if sys.version_info.minor < 8:\n",
        "    print(f\"device={device}\")\n",
        "else:\n",
        "    print(f\"{device=}\")\n",
        "'''"
      ]
    },
    {
      "cell_type": "markdown",
      "metadata": {
        "id": "9EejumR8C9N8"
      },
      "source": [
        "**Data visualization**"
      ]
    },
    {
      "cell_type": "code",
      "execution_count": 25,
      "metadata": {
        "colab": {
          "base_uri": "https://localhost:8080/",
          "height": 757,
          "referenced_widgets": [
            "55d0cb596e9a4f1390941048f44c5352",
            "8407f49606074caea042295d08e7ceb1",
            "26d7fbe3674c4854ab864ce5aea9bb0c",
            "b405a14244be4a25a98e2e069e37810d",
            "0fdf459daf1d4ea0aeda94942ffb485a",
            "30bdff9d05b248a9883bb6d44ed181ab",
            "b1311c3b044349adb4801155c8b11195",
            "4df68f04122b4d629a361300171ce3ec",
            "5462c546ecc940baad58ccafe3c8b5ae",
            "42a0bb5edd4c4e7f98ed2f2c42e3e8d5",
            "c0baa2bb52834986aad18115ccfcab11",
            "6032c578e52f433392093500a5ed73e5",
            "b99a551e3a354ba8900926db5d02f692",
            "0aff039577554f3585c256eaacbb42e3",
            "66f62899cc464065a51a020bbd8c7443",
            "22b08d1c70b7444abc9956de67c4db97",
            "b8983fdcdc514397b69eb6622cf4e7d4",
            "eff0f96660ef406dafe9bdd666db34b1",
            "2d4ba98b195c4338b8cc39ce76864bfc",
            "a57e95d60051453babaf93fd7d22fdc0",
            "64d7a1b19f374550b87ffbdb76908340",
            "cda66601f7254d2c96684f9180daee4d",
            "684e32d1aa1f474bb5eae421e8db8103",
            "85f5105be4cd447899d5b13e3b01287b",
            "2fa1e887e8cc4a529f3990c2e5e7b347",
            "29b5e380e6884268b0f161413638462c",
            "e8ea7c0867b84f4d8775024de217a335",
            "afe6321f13fd45cc9d3771aeeb7ac434",
            "1d50c5b101184d8cac1ff0a320e3984c",
            "d1c03de83eca402eb42413b1ded54550",
            "e44bad96fe73415aac00d4ee8cbb01df",
            "42c40c021c6d4e4593a99f77cc126cc6",
            "dbb8ba94ab1e4c76be6023990024d6a8",
            "c20356852f5748d3966d332c7796b9a8",
            "390986f0bb774daba185791087ae6102",
            "6cfd72fd9b9a47899bf9c28eace1ef85",
            "268fe21249274edb8b6f8ef29632c5ed",
            "d6215dc8a898451f9c5969610a598990",
            "52b486213fa24c45b62a7182709f12f5",
            "dc0904c09fdc439cbdf530984d6f99a5",
            "6eda5df6800f43caae5c1890e8a5ae3c",
            "0cf408ce4eaf4bce95ec29fdb9ff8c05",
            "7f0e60c2859146789a1c5d82e18c761d",
            "de236feb57964a45b18030c69ab99c0d"
          ]
        },
        "id": "Z8jrExCPC9N8",
        "outputId": "a1f48c94-697d-42e3-a8d7-4a717604fa45"
      },
      "outputs": [
        {
          "output_type": "stream",
          "name": "stdout",
          "text": [
            "Downloading http://yann.lecun.com/exdb/mnist/train-images-idx3-ubyte.gz\n",
            "Downloading http://yann.lecun.com/exdb/mnist/train-images-idx3-ubyte.gz to .data/MNIST/raw/train-images-idx3-ubyte.gz\n"
          ]
        },
        {
          "output_type": "display_data",
          "data": {
            "text/plain": [
              "  0%|          | 0/9912422 [00:00<?, ?it/s]"
            ],
            "application/vnd.jupyter.widget-view+json": {
              "version_major": 2,
              "version_minor": 0,
              "model_id": "55d0cb596e9a4f1390941048f44c5352"
            }
          },
          "metadata": {}
        },
        {
          "output_type": "stream",
          "name": "stdout",
          "text": [
            "Extracting .data/MNIST/raw/train-images-idx3-ubyte.gz to .data/MNIST/raw\n",
            "\n",
            "Downloading http://yann.lecun.com/exdb/mnist/train-labels-idx1-ubyte.gz\n",
            "Downloading http://yann.lecun.com/exdb/mnist/train-labels-idx1-ubyte.gz to .data/MNIST/raw/train-labels-idx1-ubyte.gz\n"
          ]
        },
        {
          "output_type": "display_data",
          "data": {
            "text/plain": [
              "  0%|          | 0/28881 [00:00<?, ?it/s]"
            ],
            "application/vnd.jupyter.widget-view+json": {
              "version_major": 2,
              "version_minor": 0,
              "model_id": "6032c578e52f433392093500a5ed73e5"
            }
          },
          "metadata": {}
        },
        {
          "output_type": "stream",
          "name": "stdout",
          "text": [
            "Extracting .data/MNIST/raw/train-labels-idx1-ubyte.gz to .data/MNIST/raw\n",
            "\n",
            "Downloading http://yann.lecun.com/exdb/mnist/t10k-images-idx3-ubyte.gz\n",
            "Downloading http://yann.lecun.com/exdb/mnist/t10k-images-idx3-ubyte.gz to .data/MNIST/raw/t10k-images-idx3-ubyte.gz\n"
          ]
        },
        {
          "output_type": "display_data",
          "data": {
            "text/plain": [
              "  0%|          | 0/1648877 [00:00<?, ?it/s]"
            ],
            "application/vnd.jupyter.widget-view+json": {
              "version_major": 2,
              "version_minor": 0,
              "model_id": "684e32d1aa1f474bb5eae421e8db8103"
            }
          },
          "metadata": {}
        },
        {
          "output_type": "stream",
          "name": "stdout",
          "text": [
            "Extracting .data/MNIST/raw/t10k-images-idx3-ubyte.gz to .data/MNIST/raw\n",
            "\n",
            "Downloading http://yann.lecun.com/exdb/mnist/t10k-labels-idx1-ubyte.gz\n",
            "Downloading http://yann.lecun.com/exdb/mnist/t10k-labels-idx1-ubyte.gz to .data/MNIST/raw/t10k-labels-idx1-ubyte.gz\n"
          ]
        },
        {
          "output_type": "display_data",
          "data": {
            "text/plain": [
              "  0%|          | 0/4542 [00:00<?, ?it/s]"
            ],
            "application/vnd.jupyter.widget-view+json": {
              "version_major": 2,
              "version_minor": 0,
              "model_id": "c20356852f5748d3966d332c7796b9a8"
            }
          },
          "metadata": {}
        },
        {
          "output_type": "stream",
          "name": "stdout",
          "text": [
            "Extracting .data/MNIST/raw/t10k-labels-idx1-ubyte.gz to .data/MNIST/raw\n",
            "\n",
            "Dataset MNIST\n",
            "    Number of datapoints: 60000\n",
            "    Root location: .data/\n",
            "    Split: Train\n",
            "# of examples: 60000\n"
          ]
        },
        {
          "output_type": "display_data",
          "data": {
            "text/plain": [
              "<Figure size 432x288 with 1 Axes>"
            ],
            "image/png": "[encoded data removed]"
          },
          "metadata": {}
        }
      ],
      "source": [
        "dataset = torchvision.datasets.MNIST(\".data/\", train=True, download=True)\n",
        "\n",
        "print(dataset)\n",
        "print(f\"# of examples: {len(dataset)}\")\n",
        "\n",
        "x = torch.cat([\n",
        "    torch.from_numpy(np.array(dataset[idx][0]))[None][None]\n",
        "    for idx in range(64)\n",
        "])\n",
        "\n",
        "plt.imshow(torchvision.utils.make_grid(x).permute(1,2,0))\n",
        "plt.title(\"train samples\")\n",
        "plt.axis(\"off\")\n",
        "plt.show()"
      ]
    },
    {
      "cell_type": "markdown",
      "metadata": {
        "id": "uJ_ST62bC9N9"
      },
      "source": [
        "**Define datasets**"
      ]
    },
    {
      "cell_type": "code",
      "execution_count": 26,
      "metadata": {
        "id": "OY2CfsGvC9N9"
      },
      "outputs": [],
      "source": [
        "transform=torchvision.transforms.Compose(\n",
        "    [\n",
        "        torchvision.transforms.ToTensor(),\n",
        "        torchvision.transforms.Normalize((0.1307), (0.3081))\n",
        "    ]\n",
        ")\n",
        "\n",
        "batch_size = 128\n",
        "\n",
        "train_dataset = torchvision.datasets.MNIST(\".data/\", train=True, download=True, transform=transform)\n",
        "train_dataloader = torch.utils.data.DataLoader(train_dataset, batch_size=batch_size, shuffle=True)\n",
        "\n",
        "test_dataset = torchvision.datasets.MNIST(\".data/\", train=False, download=True, transform=transform)\n",
        "test_dataloader = torch.utils.data.DataLoader(test_dataset, batch_size=batch_size, shuffle=False)"
      ]
    },
    {
      "cell_type": "markdown",
      "metadata": {
        "id": "kMGcOnddC9N_"
      },
      "source": [
        "**Define Model**"
      ]
    },
    {
      "cell_type": "code",
      "execution_count": 27,
      "metadata": {
        "id": "aQ8RIHrZC9N_"
      },
      "outputs": [],
      "source": [
        "class ConvNet(torch.nn.Module):\n",
        "    def __init__(self, num_classes: int):\n",
        "        super().__init__()\n",
        "        self.extractor = torch.nn.Sequential(\n",
        "            torch.nn.Conv2d(1, 16, 7),\n",
        "            torch.nn.ReLU(),\n",
        "            torch.nn.Conv2d(16, 32, 5),\n",
        "            torch.nn.ReLU(),\n",
        "            torch.nn.Conv2d(32, 64, 3),\n",
        "            torch.nn.ReLU(),\n",
        "            torch.nn.Conv2d(64, 64, 3),\n",
        "            torch.nn.ReLU(),\n",
        "            ResidualBlock(64, 64),\n",
        "            ResidualBlock(64, 64),\n",
        "            torch.nn.MaxPool2d(2)\n",
        "        )\n",
        "        self.clf = torch.nn.Linear(7 * 7 * 64, num_classes)\n",
        "\n",
        "    def forward(self, x: torch.Tensor) -> torch.Tensor:\n",
        "        feature_map = self.extractor(x)\n",
        "        feature_vector = torch.flatten(feature_map, 1)\n",
        "        return self.clf(feature_vector)"
      ]
    },
    {
      "cell_type": "markdown",
      "metadata": {
        "id": "wpvA3rrWC9OA"
      },
      "source": [
        "**Training/Evaluation functions**"
      ]
    },
    {
      "cell_type": "code",
      "execution_count": 28,
      "metadata": {
        "id": "sjVV2l3SC9OA"
      },
      "outputs": [],
      "source": [
        "def train_epoch(\n",
        "    model: torch.nn.Module, \n",
        "    optimizer: torch.optim.Optimizer, \n",
        "    loader: torch.utils.data.DataLoader, \n",
        "    criterion: torch.nn.modules.loss._Loss,\n",
        "    device: torch.device,\n",
        "    verbose: bool = False,\n",
        ") -> float:\n",
        "    model.train(True)\n",
        "    model.to(device)\n",
        "    optimizer.zero_grad()\n",
        "    acc_loss = 0\n",
        "    total = len(loader.dataset)\n",
        "    if verbose:\n",
        "        loader = tqdm(loader, desc=\"Training\", total=len(loader), leave=True)\n",
        "    for input_data, target in loader:\n",
        "        input_data = input_data.to(device)\n",
        "        target = target.to(device)\n",
        "        predicted = model(input_data)\n",
        "        \n",
        "        loss = criterion(predicted, target)\n",
        "        \n",
        "        # calculate gradient\n",
        "        loss.backward()\n",
        "        # update weights\n",
        "        optimizer.step()\n",
        "        # flush gradients\n",
        "        optimizer.zero_grad()\n",
        "        acc_loss += loss.item()\n",
        "        \n",
        "    return acc_loss / total\n",
        "\n",
        "\n",
        "EvalOutput = namedtuple(\"EvalOutput\", [\"loss\", \"accuracy\"])\n",
        "\n",
        "\n",
        "def eval_epoch(\n",
        "    model: torch.nn.Module, \n",
        "    loader: torch.utils.data.DataLoader, \n",
        "    criterion: torch.nn.modules.loss._Loss,\n",
        "    device: torch.device,\n",
        "    verbose: bool = False,\n",
        ") -> EvalOutput:\n",
        "    model.train(False)\n",
        "    model.to(device)\n",
        "    acc_loss = 0\n",
        "    acc = 0\n",
        "    total = len(loader.dataset)\n",
        "\n",
        "    # no grad for context manager to accelerate evaluation\n",
        "    with torch.no_grad():\n",
        "        if verbose:\n",
        "            loader = tqdm(loader, desc=\"Evaluation\", total=len(loader), leave=True)\n",
        "        for input_data, target in loader:\n",
        "            input_data = input_data.to(device)\n",
        "            target = target.to(device)\n",
        "            predicted = model(input_data)\n",
        "            \n",
        "            loss = criterion(predicted, target)\n",
        "            acc_loss += loss.item()\n",
        "\n",
        "            acc += torch.sum(\n",
        "                torch.argmax(predicted, 1) == target\n",
        "            ).item()\n",
        "\n",
        "    return EvalOutput(\n",
        "        loss=acc_loss / total,\n",
        "        accuracy=acc / total\n",
        "    )\n",
        "\n",
        "\n",
        "class TrainOutput(NamedTuple):\n",
        "    train_loss: List[float]\n",
        "    val_loss: List[float]\n",
        "    val_accuracy: List[float]\n",
        "\n",
        "\n",
        "def train(\n",
        "    num_epochs: int,\n",
        "    model: torch.nn.Module, \n",
        "    optimizer: torch.optim.Optimizer, \n",
        "    train_loader: torch.utils.data.DataLoader,\n",
        "    test_loader: torch.utils.data.DataLoader,\n",
        "    criterion: torch.nn.modules.loss._Loss,\n",
        "    device: torch.device\n",
        ") -> TrainOutput:\n",
        "\n",
        "    train_loss = []\n",
        "    val_loss = []\n",
        "    val_acc = []\n",
        "    for epoch in range(num_epochs):\n",
        "        loss = train_epoch(\n",
        "            model, optimizer, train_loader, criterion, device, verbose=True\n",
        "        )\n",
        "        train_loss.append(loss)\n",
        "        eval_out = eval_epoch(\n",
        "            model, test_loader, criterion, device, verbose=True\n",
        "        )\n",
        "        val_loss.append(eval_out.loss)\n",
        "        val_acc.append(eval_out.accuracy)\n",
        "\n",
        "        print(f\"Epoch #{epoch}:\")\n",
        "        print(f\"Training Loss: {loss}\")\n",
        "        print(f\"Evaluation Loss: {eval_out.loss}\")\n",
        "        print(f\"Accuracy: {eval_out.accuracy}\")\n",
        "    return TrainOutput(\n",
        "        train_loss=train_loss,\n",
        "        val_loss=val_loss,\n",
        "        val_accuracy=val_acc\n",
        "    )"
      ]
    },
    {
      "cell_type": "markdown",
      "metadata": {
        "id": "cSNnjIqQC9OB"
      },
      "source": [
        "**Create model, chose optimizer & criterion**"
      ]
    },
    {
      "cell_type": "code",
      "execution_count": 29,
      "metadata": {
        "id": "b8n1rhN7C9OD"
      },
      "outputs": [],
      "source": [
        "model = ConvNet(len(train_dataset.classes))\n",
        "\n",
        "optimizer = torch.optim.SGD(model.parameters(), lr=0.05)\n",
        "criterion = torch.nn.CrossEntropyLoss()\n",
        "model.to(device);"
      ]
    },
    {
      "cell_type": "markdown",
      "metadata": {
        "id": "nkZdSwcvC9OD"
      },
      "source": [
        "---"
      ]
    },
    {
      "cell_type": "markdown",
      "metadata": {
        "id": "utBPVtNiC9OE"
      },
      "source": [
        "**Train & visualize results**"
      ]
    },
    {
      "cell_type": "code",
      "execution_count": 30,
      "metadata": {
        "colab": {
          "base_uri": "https://localhost:8080/"
        },
        "id": "8_0bB4bsC9OE",
        "outputId": "37761e0a-56d8-4149-fb00-d70bc42decce"
      },
      "outputs": [
        {
          "output_type": "stream",
          "name": "stderr",
          "text": [
            "Training: 100%|██████████| 469/469 [00:21<00:00, 21.64it/s]\n",
            "Evaluation: 100%|██████████| 79/79 [00:01<00:00, 42.23it/s]\n"
          ]
        },
        {
          "output_type": "stream",
          "name": "stdout",
          "text": [
            "Epoch #0:\n",
            "Training Loss: 0.0027949480432396135\n",
            "Evaluation Loss: 0.0005771608589799144\n",
            "Accuracy: 0.9778\n"
          ]
        },
        {
          "output_type": "stream",
          "name": "stderr",
          "text": [
            "Training: 100%|██████████| 469/469 [00:16<00:00, 28.34it/s]\n",
            "Evaluation: 100%|██████████| 79/79 [00:01<00:00, 40.41it/s]\n"
          ]
        },
        {
          "output_type": "stream",
          "name": "stdout",
          "text": [
            "Epoch #1:\n",
            "Training Loss: 0.0005979601620851705\n",
            "Evaluation Loss: 0.0004522112283390015\n",
            "Accuracy: 0.9817\n"
          ]
        },
        {
          "output_type": "stream",
          "name": "stderr",
          "text": [
            "Training: 100%|██████████| 469/469 [00:16<00:00, 27.96it/s]\n",
            "Evaluation: 100%|██████████| 79/79 [00:01<00:00, 42.07it/s]\n"
          ]
        },
        {
          "output_type": "stream",
          "name": "stdout",
          "text": [
            "Epoch #2:\n",
            "Training Loss: 0.0004251335367637997\n",
            "Evaluation Loss: 0.0003232317653571954\n",
            "Accuracy: 0.9867\n"
          ]
        },
        {
          "output_type": "stream",
          "name": "stderr",
          "text": [
            "Training: 100%|██████████| 469/469 [00:16<00:00, 28.86it/s]\n",
            "Evaluation: 100%|██████████| 79/79 [00:01<00:00, 40.58it/s]\n"
          ]
        },
        {
          "output_type": "stream",
          "name": "stdout",
          "text": [
            "Epoch #3:\n",
            "Training Loss: 0.00033631985041623316\n",
            "Evaluation Loss: 0.00026288493583269884\n",
            "Accuracy: 0.9889\n"
          ]
        },
        {
          "output_type": "stream",
          "name": "stderr",
          "text": [
            "Training: 100%|██████████| 469/469 [00:16<00:00, 28.47it/s]\n",
            "Evaluation: 100%|██████████| 79/79 [00:01<00:00, 41.16it/s]"
          ]
        },
        {
          "output_type": "stream",
          "name": "stdout",
          "text": [
            "Epoch #4:\n",
            "Training Loss: 0.00027576613531176314\n",
            "Evaluation Loss: 0.00024688968162663515\n",
            "Accuracy: 0.9892\n"
          ]
        },
        {
          "output_type": "stream",
          "name": "stderr",
          "text": [
            "\n"
          ]
        }
      ],
      "source": [
        "num_epochs = 5\n",
        "\n",
        "training_results = train(\n",
        "    num_epochs,\n",
        "    model,\n",
        "    optimizer,\n",
        "    train_dataloader,\n",
        "    test_dataloader,\n",
        "    criterion,\n",
        "    device\n",
        ")"
      ]
    },
    {
      "cell_type": "code",
      "execution_count": 31,
      "metadata": {
        "colab": {
          "base_uri": "https://localhost:8080/",
          "height": 499
        },
        "id": "T_RvZe_rC9OF",
        "outputId": "6f1ccaad-812d-4f4b-e013-4f48e428c95e"
      },
      "outputs": [
        {
          "output_type": "display_data",
          "data": {
            "text/plain": [
              "<Figure size 864x576 with 2 Axes>"
            ],
            "image/png": "[encoded data removed]"
          },
          "metadata": {}
        }
      ],
      "source": [
        "_, ax = plt.subplots(1, 2, figsize=(12, 8))\n",
        "ax = ax.flatten()\n",
        "\n",
        "ax[0].plot(\n",
        "    np.arange(len(training_results.train_loss)),\n",
        "    training_results.train_loss,\n",
        "    label=\"Training loss\"\n",
        ")\n",
        "ax[0].plot(\n",
        "    np.arange(len(training_results.val_loss)),\n",
        "    training_results.val_loss,\n",
        "    label=\"Evaluation loss\"\n",
        ")\n",
        "ax[1].plot(\n",
        "    np.arange(len(training_results.val_accuracy)),\n",
        "    training_results.val_accuracy,\n",
        "    label=\"Evaluation accuracy\"\n",
        ")\n",
        "ax[0].legend()\n",
        "ax[1].legend()\n",
        "ax[0].set_title(\"Loss\")\n",
        "ax[1].set_title(\"Accuracy\")\n",
        "\n",
        "plt.show()"
      ]
    },
    {
      "cell_type": "markdown",
      "metadata": {
        "id": "YELY0AR8C9OG"
      },
      "source": [
        "---"
      ]
    },
    {
      "cell_type": "markdown",
      "metadata": {
        "id": "jm7QZnBpC9OG"
      },
      "source": [
        "**Save & Load model to check everything is ok**"
      ]
    },
    {
      "cell_type": "code",
      "execution_count": 32,
      "metadata": {
        "id": "yZIse82dC9OH"
      },
      "outputs": [],
      "source": [
        "# save model state dict and load it back\n",
        "ckpt = \"checkpoint.pt\"\n",
        "cpu_device = torch.device(\"cpu\")\n",
        "model.to(cpu_device).eval()\n",
        "\n",
        "# saving\n",
        "torch.save(model.state_dict(), ckpt)\n",
        "\n",
        "# loading\n",
        "state_dict = torch.load(ckpt, cpu_device)\n",
        "loaded_model = ConvNet(10)\n",
        "loaded_model.load_state_dict(state_dict)\n",
        "loaded_model.to(cpu_device).eval()\n",
        "\n",
        "# check, results are the same\n",
        "example_input = torch.randn(256, 1, 28, 28)\n",
        "with torch.no_grad():\n",
        "    out1 = model(example_input)\n",
        "    out2 = loaded_model(example_input)\n",
        "    assert torch.allclose(out1, out2)"
      ]
    },
    {
      "cell_type": "markdown",
      "metadata": {
        "id": "jibDHNnFC9OH"
      },
      "source": [
        "**JIT**\n",
        "\n",
        "[TorchScript](https://pytorch.org/docs/stable/jit.html)"
      ]
    },
    {
      "cell_type": "code",
      "execution_count": 33,
      "metadata": {
        "id": "GWEbRoXEC9OI"
      },
      "outputs": [],
      "source": [
        "ckpt = \"traced.pt\"\n",
        "\n",
        "# saving\n",
        "traced = torch.jit.trace(model, example_input)\n",
        "torch.jit.save(traced, ckpt)\n",
        "\n",
        "# loading\n",
        "loaded_model = torch.jit.load(ckpt)\n",
        "\n",
        "# check, results are the same\n",
        "example_input = torch.randn(256, 1, 28, 28)\n",
        "with torch.no_grad():\n",
        "    out1 = model(example_input)\n",
        "    out2 = loaded_model(example_input)\n",
        "    assert torch.allclose(out1, out2)"
      ]
    },
    {
      "cell_type": "markdown",
      "metadata": {
        "id": "NEzFwRJbC9OI"
      },
      "source": [
        "---"
      ]
    }
  ],
  "metadata": {
    "kernelspec": {
      "display_name": "Python 3.9.13 ('env': venv)",
      "language": "python",
      "name": "python3"
    },
    "language_info": {
      "codemirror_mode": {
        "name": "ipython",
        "version": 3
      },
      "file_extension": ".py",
      "mimetype": "text/x-python",
      "name": "python",
      "nbconvert_exporter": "python",
      "pygments_lexer": "ipython3",
      "version": "3.9.13"
    },
    "orig_nbformat": 4,
    "vscode": {
      "interpreter": {
        "hash": "e35e0beae6c00a0d4c47799eacd02a4a7eba920ec1459eee582701a40143f054"
      }
    },
    "colab": {
      "provenance": [],
      "include_colab_link": true
    },
    "accelerator": "GPU",
    "gpuClass": "standard",
    "widgets": {
      "application/vnd.jupyter.widget-state+json": {
        "55d0cb596e9a4f1390941048f44c5352": {
          "model_module": "@jupyter-widgets/controls",
          "model_name": "HBoxModel",
          "model_module_version": "1.5.0",
          "state": {
            "_dom_classes": [],
            "_model_module": "@jupyter-widgets/controls",
            "_model_module_version": "1.5.0",
            "_model_name": "HBoxModel",
            "_view_count": null,
            "_view_module": "@jupyter-widgets/controls",
            "_view_module_version": "1.5.0",
            "_view_name": "HBoxView",
            "box_style": "",
            "children": [
              "IPY_MODEL_8407f49606074caea042295d08e7ceb1",
              "IPY_MODEL_26d7fbe3674c4854ab864ce5aea9bb0c",
              "IPY_MODEL_b405a14244be4a25a98e2e069e37810d"
            ],
            "layout": "IPY_MODEL_0fdf459daf1d4ea0aeda94942ffb485a"
          }
        },
        "8407f49606074caea042295d08e7ceb1": {
          "model_module": "@jupyter-widgets/controls",
          "model_name": "HTMLModel",
          "model_module_version": "1.5.0",
          "state": {
            "_dom_classes": [],
            "_model_module": "@jupyter-widgets/controls",
            "_model_module_version": "1.5.0",
            "_model_name": "HTMLModel",
            "_view_count": null,
            "_view_module": "@jupyter-widgets/controls",
            "_view_module_version": "1.5.0",
            "_view_name": "HTMLView",
            "description": "",
            "description_tooltip": null,
            "layout": "IPY_MODEL_30bdff9d05b248a9883bb6d44ed181ab",
            "placeholder": "​",
            "style": "IPY_MODEL_b1311c3b044349adb4801155c8b11195",
            "value": "100%"
          }
        },
        "26d7fbe3674c4854ab864ce5aea9bb0c": {
          "model_module": "@jupyter-widgets/controls",
          "model_name": "FloatProgressModel",
          "model_module_version": "1.5.0",
          "state": {
            "_dom_classes": [],
            "_model_module": "@jupyter-widgets/controls",
            "_model_module_version": "1.5.0",
            "_model_name": "FloatProgressModel",
            "_view_count": null,
            "_view_module": "@jupyter-widgets/controls",
            "_view_module_version": "1.5.0",
            "_view_name": "ProgressView",
            "bar_style": "success",
            "description": "",
            "description_tooltip": null,
            "layout": "IPY_MODEL_4df68f04122b4d629a361300171ce3ec",
            "max": 9912422,
            "min": 0,
            "orientation": "horizontal",
            "style": "IPY_MODEL_5462c546ecc940baad58ccafe3c8b5ae",
            "value": 9912422
          }
        },
        "b405a14244be4a25a98e2e069e37810d": {
          "model_module": "@jupyter-widgets/controls",
          "model_name": "HTMLModel",
          "model_module_version": "1.5.0",
          "state": {
            "_dom_classes": [],
            "_model_module": "@jupyter-widgets/controls",
            "_model_module_version": "1.5.0",
            "_model_name": "HTMLModel",
            "_view_count": null,
            "_view_module": "@jupyter-widgets/controls",
            "_view_module_version": "1.5.0",
            "_view_name": "HTMLView",
            "description": "",
            "description_tooltip": null,
            "layout": "IPY_MODEL_42a0bb5edd4c4e7f98ed2f2c42e3e8d5",
            "placeholder": "​",
            "style": "IPY_MODEL_c0baa2bb52834986aad18115ccfcab11",
            "value": " 9912422/9912422 [00:00&lt;00:00, 140054879.84it/s]"
          }
        },
        "0fdf459daf1d4ea0aeda94942ffb485a": {
          "model_module": "@jupyter-widgets/base",
          "model_name": "LayoutModel",
          "model_module_version": "1.2.0",
          "state": {
            "_model_module": "@jupyter-widgets/base",
            "_model_module_version": "1.2.0",
            "_model_name": "LayoutModel",
            "_view_count": null,
            "_view_module": "@jupyter-widgets/base",
            "_view_module_version": "1.2.0",
            "_view_name": "LayoutView",
            "align_content": null,
            "align_items": null,
            "align_self": null,
            "border": null,
            "bottom": null,
            "display": null,
            "flex": null,
            "flex_flow": null,
            "grid_area": null,
            "grid_auto_columns": null,
            "grid_auto_flow": null,
            "grid_auto_rows": null,
            "grid_column": null,
            "grid_gap": null,
            "grid_row": null,
            "grid_template_areas": null,
            "grid_template_columns": null,
            "grid_template_rows": null,
            "height": null,
            "justify_content": null,
            "justify_items": null,
            "left": null,
            "margin": null,
            "max_height": null,
            "max_width": null,
            "min_height": null,
            "min_width": null,
            "object_fit": null,
            "object_position": null,
            "order": null,
            "overflow": null,
            "overflow_x": null,
            "overflow_y": null,
            "padding": null,
            "right": null,
            "top": null,
            "visibility": null,
            "width": null
          }
        },
        "30bdff9d05b248a9883bb6d44ed181ab": {
          "model_module": "@jupyter-widgets/base",
          "model_name": "LayoutModel",
          "model_module_version": "1.2.0",
          "state": {
            "_model_module": "@jupyter-widgets/base",
            "_model_module_version": "1.2.0",
            "_model_name": "LayoutModel",
            "_view_count": null,
            "_view_module": "@jupyter-widgets/base",
            "_view_module_version": "1.2.0",
            "_view_name": "LayoutView",
            "align_content": null,
            "align_items": null,
            "align_self": null,
            "border": null,
            "bottom": null,
            "display": null,
            "flex": null,
            "flex_flow": null,
            "grid_area": null,
            "grid_auto_columns": null,
            "grid_auto_flow": null,
            "grid_auto_rows": null,
            "grid_column": null,
            "grid_gap": null,
            "grid_row": null,
            "grid_template_areas": null,
            "grid_template_columns": null,
            "grid_template_rows": null,
            "height": null,
            "justify_content": null,
            "justify_items": null,
            "left": null,
            "margin": null,
            "max_height": null,
            "max_width": null,
            "min_height": null,
            "min_width": null,
            "object_fit": null,
            "object_position": null,
            "order": null,
            "overflow": null,
            "overflow_x": null,
            "overflow_y": null,
            "padding": null,
            "right": null,
            "top": null,
            "visibility": null,
            "width": null
          }
        },
        "b1311c3b044349adb4801155c8b11195": {
          "model_module": "@jupyter-widgets/controls",
          "model_name": "DescriptionStyleModel",
          "model_module_version": "1.5.0",
          "state": {
            "_model_module": "@jupyter-widgets/controls",
            "_model_module_version": "1.5.0",
            "_model_name": "DescriptionStyleModel",
            "_view_count": null,
            "_view_module": "@jupyter-widgets/base",
            "_view_module_version": "1.2.0",
            "_view_name": "StyleView",
            "description_width": ""
          }
        },
        "4df68f04122b4d629a361300171ce3ec": {
          "model_module": "@jupyter-widgets/base",
          "model_name": "LayoutModel",
          "model_module_version": "1.2.0",
          "state": {
            "_model_module": "@jupyter-widgets/base",
            "_model_module_version": "1.2.0",
            "_model_name": "LayoutModel",
            "_view_count": null,
            "_view_module": "@jupyter-widgets/base",
            "_view_module_version": "1.2.0",
            "_view_name": "LayoutView",
            "align_content": null,
            "align_items": null,
            "align_self": null,
            "border": null,
            "bottom": null,
            "display": null,
            "flex": null,
            "flex_flow": null,
            "grid_area": null,
            "grid_auto_columns": null,
            "grid_auto_flow": null,
            "grid_auto_rows": null,
            "grid_column": null,
            "grid_gap": null,
            "grid_row": null,
            "grid_template_areas": null,
            "grid_template_columns": null,
            "grid_template_rows": null,
            "height": null,
            "justify_content": null,
            "justify_items": null,
            "left": null,
            "margin": null,
            "max_height": null,
            "max_width": null,
            "min_height": null,
            "min_width": null,
            "object_fit": null,
            "object_position": null,
            "order": null,
            "overflow": null,
            "overflow_x": null,
            "overflow_y": null,
            "padding": null,
            "right": null,
            "top": null,
            "visibility": null,
            "width": null
          }
        },
        "5462c546ecc940baad58ccafe3c8b5ae": {
          "model_module": "@jupyter-widgets/controls",
          "model_name": "ProgressStyleModel",
          "model_module_version": "1.5.0",
          "state": {
            "_model_module": "@jupyter-widgets/controls",
            "_model_module_version": "1.5.0",
            "_model_name": "ProgressStyleModel",
            "_view_count": null,
            "_view_module": "@jupyter-widgets/base",
            "_view_module_version": "1.2.0",
            "_view_name": "StyleView",
            "bar_color": null,
            "description_width": ""
          }
        },
        "42a0bb5edd4c4e7f98ed2f2c42e3e8d5": {
          "model_module": "@jupyter-widgets/base",
          "model_name": "LayoutModel",
          "model_module_version": "1.2.0",
          "state": {
            "_model_module": "@jupyter-widgets/base",
            "_model_module_version": "1.2.0",
            "_model_name": "LayoutModel",
            "_view_count": null,
            "_view_module": "@jupyter-widgets/base",
            "_view_module_version": "1.2.0",
            "_view_name": "LayoutView",
            "align_content": null,
            "align_items": null,
            "align_self": null,
            "border": null,
            "bottom": null,
            "display": null,
            "flex": null,
            "flex_flow": null,
            "grid_area": null,
            "grid_auto_columns": null,
            "grid_auto_flow": null,
            "grid_auto_rows": null,
            "grid_column": null,
            "grid_gap": null,
            "grid_row": null,
            "grid_template_areas": null,
            "grid_template_columns": null,
            "grid_template_rows": null,
            "height": null,
            "justify_content": null,
            "justify_items": null,
            "left": null,
            "margin": null,
            "max_height": null,
            "max_width": null,
            "min_height": null,
            "min_width": null,
            "object_fit": null,
            "object_position": null,
            "order": null,
            "overflow": null,
            "overflow_x": null,
            "overflow_y": null,
            "padding": null,
            "right": null,
            "top": null,
            "visibility": null,
            "width": null
          }
        },
        "c0baa2bb52834986aad18115ccfcab11": {
          "model_module": "@jupyter-widgets/controls",
          "model_name": "DescriptionStyleModel",
          "model_module_version": "1.5.0",
          "state": {
            "_model_module": "@jupyter-widgets/controls",
            "_model_module_version": "1.5.0",
            "_model_name": "DescriptionStyleModel",
            "_view_count": null,
            "_view_module": "@jupyter-widgets/base",
            "_view_module_version": "1.2.0",
            "_view_name": "StyleView",
            "description_width": ""
          }
        },
        "6032c578e52f433392093500a5ed73e5": {
          "model_module": "@jupyter-widgets/controls",
          "model_name": "HBoxModel",
          "model_module_version": "1.5.0",
          "state": {
            "_dom_classes": [],
            "_model_module": "@jupyter-widgets/controls",
            "_model_module_version": "1.5.0",
            "_model_name": "HBoxModel",
            "_view_count": null,
            "_view_module": "@jupyter-widgets/controls",
            "_view_module_version": "1.5.0",
            "_view_name": "HBoxView",
            "box_style": "",
            "children": [
              "IPY_MODEL_b99a551e3a354ba8900926db5d02f692",
              "IPY_MODEL_0aff039577554f3585c256eaacbb42e3",
              "IPY_MODEL_66f62899cc464065a51a020bbd8c7443"
            ],
            "layout": "IPY_MODEL_22b08d1c70b7444abc9956de67c4db97"
          }
        },
        "b99a551e3a354ba8900926db5d02f692": {
          "model_module": "@jupyter-widgets/controls",
          "model_name": "HTMLModel",
          "model_module_version": "1.5.0",
          "state": {
            "_dom_classes": [],
            "_model_module": "@jupyter-widgets/controls",
            "_model_module_version": "1.5.0",
            "_model_name": "HTMLModel",
            "_view_count": null,
            "_view_module": "@jupyter-widgets/controls",
            "_view_module_version": "1.5.0",
            "_view_name": "HTMLView",
            "description": "",
            "description_tooltip": null,
            "layout": "IPY_MODEL_b8983fdcdc514397b69eb6622cf4e7d4",
            "placeholder": "​",
            "style": "IPY_MODEL_eff0f96660ef406dafe9bdd666db34b1",
            "value": "100%"
          }
        },
        "0aff039577554f3585c256eaacbb42e3": {
          "model_module": "@jupyter-widgets/controls",
          "model_name": "FloatProgressModel",
          "model_module_version": "1.5.0",
          "state": {
            "_dom_classes": [],
            "_model_module": "@jupyter-widgets/controls",
            "_model_module_version": "1.5.0",
            "_model_name": "FloatProgressModel",
            "_view_count": null,
            "_view_module": "@jupyter-widgets/controls",
            "_view_module_version": "1.5.0",
            "_view_name": "ProgressView",
            "bar_style": "success",
            "description": "",
            "description_tooltip": null,
            "layout": "IPY_MODEL_2d4ba98b195c4338b8cc39ce76864bfc",
            "max": 28881,
            "min": 0,
            "orientation": "horizontal",
            "style": "IPY_MODEL_a57e95d60051453babaf93fd7d22fdc0",
            "value": 28881
          }
        },
        "66f62899cc464065a51a020bbd8c7443": {
          "model_module": "@jupyter-widgets/controls",
          "model_name": "HTMLModel",
          "model_module_version": "1.5.0",
          "state": {
            "_dom_classes": [],
            "_model_module": "@jupyter-widgets/controls",
            "_model_module_version": "1.5.0",
            "_model_name": "HTMLModel",
            "_view_count": null,
            "_view_module": "@jupyter-widgets/controls",
            "_view_module_version": "1.5.0",
            "_view_name": "HTMLView",
            "description": "",
            "description_tooltip": null,
            "layout": "IPY_MODEL_64d7a1b19f374550b87ffbdb76908340",
            "placeholder": "​",
            "style": "IPY_MODEL_cda66601f7254d2c96684f9180daee4d",
            "value": " 28881/28881 [00:00&lt;00:00, 1065556.80it/s]"
          }
        },
        "22b08d1c70b7444abc9956de67c4db97": {
          "model_module": "@jupyter-widgets/base",
          "model_name": "LayoutModel",
          "model_module_version": "1.2.0",
          "state": {
            "_model_module": "@jupyter-widgets/base",
            "_model_module_version": "1.2.0",
            "_model_name": "LayoutModel",
            "_view_count": null,
            "_view_module": "@jupyter-widgets/base",
            "_view_module_version": "1.2.0",
            "_view_name": "LayoutView",
            "align_content": null,
            "align_items": null,
            "align_self": null,
            "border": null,
            "bottom": null,
            "display": null,
            "flex": null,
            "flex_flow": null,
            "grid_area": null,
            "grid_auto_columns": null,
            "grid_auto_flow": null,
            "grid_auto_rows": null,
            "grid_column": null,
            "grid_gap": null,
            "grid_row": null,
            "grid_template_areas": null,
            "grid_template_columns": null,
            "grid_template_rows": null,
            "height": null,
            "justify_content": null,
            "justify_items": null,
            "left": null,
            "margin": null,
            "max_height": null,
            "max_width": null,
            "min_height": null,
            "min_width": null,
            "object_fit": null,
            "object_position": null,
            "order": null,
            "overflow": null,
            "overflow_x": null,
            "overflow_y": null,
            "padding": null,
            "right": null,
            "top": null,
            "visibility": null,
            "width": null
          }
        },
        "b8983fdcdc514397b69eb6622cf4e7d4": {
          "model_module": "@jupyter-widgets/base",
          "model_name": "LayoutModel",
          "model_module_version": "1.2.0",
          "state": {
            "_model_module": "@jupyter-widgets/base",
            "_model_module_version": "1.2.0",
            "_model_name": "LayoutModel",
            "_view_count": null,
            "_view_module": "@jupyter-widgets/base",
            "_view_module_version": "1.2.0",
            "_view_name": "LayoutView",
            "align_content": null,
            "align_items": null,
            "align_self": null,
            "border": null,
            "bottom": null,
            "display": null,
            "flex": null,
            "flex_flow": null,
            "grid_area": null,
            "grid_auto_columns": null,
            "grid_auto_flow": null,
            "grid_auto_rows": null,
            "grid_column": null,
            "grid_gap": null,
            "grid_row": null,
            "grid_template_areas": null,
            "grid_template_columns": null,
            "grid_template_rows": null,
            "height": null,
            "justify_content": null,
            "justify_items": null,
            "left": null,
            "margin": null,
            "max_height": null,
            "max_width": null,
            "min_height": null,
            "min_width": null,
            "object_fit": null,
            "object_position": null,
            "order": null,
            "overflow": null,
            "overflow_x": null,
            "overflow_y": null,
            "padding": null,
            "right": null,
            "top": null,
            "visibility": null,
            "width": null
          }
        },
        "eff0f96660ef406dafe9bdd666db34b1": {
          "model_module": "@jupyter-widgets/controls",
          "model_name": "DescriptionStyleModel",
          "model_module_version": "1.5.0",
          "state": {
            "_model_module": "@jupyter-widgets/controls",
            "_model_module_version": "1.5.0",
            "_model_name": "DescriptionStyleModel",
            "_view_count": null,
            "_view_module": "@jupyter-widgets/base",
            "_view_module_version": "1.2.0",
            "_view_name": "StyleView",
            "description_width": ""
          }
        },
        "2d4ba98b195c4338b8cc39ce76864bfc": {
          "model_module": "@jupyter-widgets/base",
          "model_name": "LayoutModel",
          "model_module_version": "1.2.0",
          "state": {
            "_model_module": "@jupyter-widgets/base",
            "_model_module_version": "1.2.0",
            "_model_name": "LayoutModel",
            "_view_count": null,
            "_view_module": "@jupyter-widgets/base",
            "_view_module_version": "1.2.0",
            "_view_name": "LayoutView",
            "align_content": null,
            "align_items": null,
            "align_self": null,
            "border": null,
            "bottom": null,
            "display": null,
            "flex": null,
            "flex_flow": null,
            "grid_area": null,
            "grid_auto_columns": null,
            "grid_auto_flow": null,
            "grid_auto_rows": null,
            "grid_column": null,
            "grid_gap": null,
            "grid_row": null,
            "grid_template_areas": null,
            "grid_template_columns": null,
            "grid_template_rows": null,
            "height": null,
            "justify_content": null,
            "justify_items": null,
            "left": null,
            "margin": null,
            "max_height": null,
            "max_width": null,
            "min_height": null,
            "min_width": null,
            "object_fit": null,
            "object_position": null,
            "order": null,
            "overflow": null,
            "overflow_x": null,
            "overflow_y": null,
            "padding": null,
            "right": null,
            "top": null,
            "visibility": null,
            "width": null
          }
        },
        "a57e95d60051453babaf93fd7d22fdc0": {
          "model_module": "@jupyter-widgets/controls",
          "model_name": "ProgressStyleModel",
          "model_module_version": "1.5.0",
          "state": {
            "_model_module": "@jupyter-widgets/controls",
            "_model_module_version": "1.5.0",
            "_model_name": "ProgressStyleModel",
            "_view_count": null,
            "_view_module": "@jupyter-widgets/base",
            "_view_module_version": "1.2.0",
            "_view_name": "StyleView",
            "bar_color": null,
            "description_width": ""
          }
        },
        "64d7a1b19f374550b87ffbdb76908340": {
          "model_module": "@jupyter-widgets/base",
          "model_name": "LayoutModel",
          "model_module_version": "1.2.0",
          "state": {
            "_model_module": "@jupyter-widgets/base",
            "_model_module_version": "1.2.0",
            "_model_name": "LayoutModel",
            "_view_count": null,
            "_view_module": "@jupyter-widgets/base",
            "_view_module_version": "1.2.0",
            "_view_name": "LayoutView",
            "align_content": null,
            "align_items": null,
            "align_self": null,
            "border": null,
            "bottom": null,
            "display": null,
            "flex": null,
            "flex_flow": null,
            "grid_area": null,
            "grid_auto_columns": null,
            "grid_auto_flow": null,
            "grid_auto_rows": null,
            "grid_column": null,
            "grid_gap": null,
            "grid_row": null,
            "grid_template_areas": null,
            "grid_template_columns": null,
            "grid_template_rows": null,
            "height": null,
            "justify_content": null,
            "justify_items": null,
            "left": null,
            "margin": null,
            "max_height": null,
            "max_width": null,
            "min_height": null,
            "min_width": null,
            "object_fit": null,
            "object_position": null,
            "order": null,
            "overflow": null,
            "overflow_x": null,
            "overflow_y": null,
            "padding": null,
            "right": null,
            "top": null,
            "visibility": null,
            "width": null
          }
        },
        "cda66601f7254d2c96684f9180daee4d": {
          "model_module": "@jupyter-widgets/controls",
          "model_name": "DescriptionStyleModel",
          "model_module_version": "1.5.0",
          "state": {
            "_model_module": "@jupyter-widgets/controls",
            "_model_module_version": "1.5.0",
            "_model_name": "DescriptionStyleModel",
            "_view_count": null,
            "_view_module": "@jupyter-widgets/base",
            "_view_module_version": "1.2.0",
            "_view_name": "StyleView",
            "description_width": ""
          }
        },
        "684e32d1aa1f474bb5eae421e8db8103": {
          "model_module": "@jupyter-widgets/controls",
          "model_name": "HBoxModel",
          "model_module_version": "1.5.0",
          "state": {
            "_dom_classes": [],
            "_model_module": "@jupyter-widgets/controls",
            "_model_module_version": "1.5.0",
            "_model_name": "HBoxModel",
            "_view_count": null,
            "_view_module": "@jupyter-widgets/controls",
            "_view_module_version": "1.5.0",
            "_view_name": "HBoxView",
            "box_style": "",
            "children": [
              "IPY_MODEL_85f5105be4cd447899d5b13e3b01287b",
              "IPY_MODEL_2fa1e887e8cc4a529f3990c2e5e7b347",
              "IPY_MODEL_29b5e380e6884268b0f161413638462c"
            ],
            "layout": "IPY_MODEL_e8ea7c0867b84f4d8775024de217a335"
          }
        },
        "85f5105be4cd447899d5b13e3b01287b": {
          "model_module": "@jupyter-widgets/controls",
          "model_name": "HTMLModel",
          "model_module_version": "1.5.0",
          "state": {
            "_dom_classes": [],
            "_model_module": "@jupyter-widgets/controls",
            "_model_module_version": "1.5.0",
            "_model_name": "HTMLModel",
            "_view_count": null,
            "_view_module": "@jupyter-widgets/controls",
            "_view_module_version": "1.5.0",
            "_view_name": "HTMLView",
            "description": "",
            "description_tooltip": null,
            "layout": "IPY_MODEL_afe6321f13fd45cc9d3771aeeb7ac434",
            "placeholder": "​",
            "style": "IPY_MODEL_1d50c5b101184d8cac1ff0a320e3984c",
            "value": "100%"
          }
        },
        "2fa1e887e8cc4a529f3990c2e5e7b347": {
          "model_module": "@jupyter-widgets/controls",
          "model_name": "FloatProgressModel",
          "model_module_version": "1.5.0",
          "state": {
            "_dom_classes": [],
            "_model_module": "@jupyter-widgets/controls",
            "_model_module_version": "1.5.0",
            "_model_name": "FloatProgressModel",
            "_view_count": null,
            "_view_module": "@jupyter-widgets/controls",
            "_view_module_version": "1.5.0",
            "_view_name": "ProgressView",
            "bar_style": "success",
            "description": "",
            "description_tooltip": null,
            "layout": "IPY_MODEL_d1c03de83eca402eb42413b1ded54550",
            "max": 1648877,
            "min": 0,
            "orientation": "horizontal",
            "style": "IPY_MODEL_e44bad96fe73415aac00d4ee8cbb01df",
            "value": 1648877
          }
        },
        "29b5e380e6884268b0f161413638462c": {
          "model_module": "@jupyter-widgets/controls",
          "model_name": "HTMLModel",
          "model_module_version": "1.5.0",
          "state": {
            "_dom_classes": [],
            "_model_module": "@jupyter-widgets/controls",
            "_model_module_version": "1.5.0",
            "_model_name": "HTMLModel",
            "_view_count": null,
            "_view_module": "@jupyter-widgets/controls",
            "_view_module_version": "1.5.0",
            "_view_name": "HTMLView",
            "description": "",
            "description_tooltip": null,
            "layout": "IPY_MODEL_42c40c021c6d4e4593a99f77cc126cc6",
            "placeholder": "​",
            "style": "IPY_MODEL_dbb8ba94ab1e4c76be6023990024d6a8",
            "value": " 1648877/1648877 [00:00&lt;00:00, 43398729.87it/s]"
          }
        },
        "e8ea7c0867b84f4d8775024de217a335": {
          "model_module": "@jupyter-widgets/base",
          "model_name": "LayoutModel",
          "model_module_version": "1.2.0",
          "state": {
            "_model_module": "@jupyter-widgets/base",
            "_model_module_version": "1.2.0",
            "_model_name": "LayoutModel",
            "_view_count": null,
            "_view_module": "@jupyter-widgets/base",
            "_view_module_version": "1.2.0",
            "_view_name": "LayoutView",
            "align_content": null,
            "align_items": null,
            "align_self": null,
            "border": null,
            "bottom": null,
            "display": null,
            "flex": null,
            "flex_flow": null,
            "grid_area": null,
            "grid_auto_columns": null,
            "grid_auto_flow": null,
            "grid_auto_rows": null,
            "grid_column": null,
            "grid_gap": null,
            "grid_row": null,
            "grid_template_areas": null,
            "grid_template_columns": null,
            "grid_template_rows": null,
            "height": null,
            "justify_content": null,
            "justify_items": null,
            "left": null,
            "margin": null,
            "max_height": null,
            "max_width": null,
            "min_height": null,
            "min_width": null,
            "object_fit": null,
            "object_position": null,
            "order": null,
            "overflow": null,
            "overflow_x": null,
            "overflow_y": null,
            "padding": null,
            "right": null,
            "top": null,
            "visibility": null,
            "width": null
          }
        },
        "afe6321f13fd45cc9d3771aeeb7ac434": {
          "model_module": "@jupyter-widgets/base",
          "model_name": "LayoutModel",
          "model_module_version": "1.2.0",
          "state": {
            "_model_module": "@jupyter-widgets/base",
            "_model_module_version": "1.2.0",
            "_model_name": "LayoutModel",
            "_view_count": null,
            "_view_module": "@jupyter-widgets/base",
            "_view_module_version": "1.2.0",
            "_view_name": "LayoutView",
            "align_content": null,
            "align_items": null,
            "align_self": null,
            "border": null,
            "bottom": null,
            "display": null,
            "flex": null,
            "flex_flow": null,
            "grid_area": null,
            "grid_auto_columns": null,
            "grid_auto_flow": null,
            "grid_auto_rows": null,
            "grid_column": null,
            "grid_gap": null,
            "grid_row": null,
            "grid_template_areas": null,
            "grid_template_columns": null,
            "grid_template_rows": null,
            "height": null,
            "justify_content": null,
            "justify_items": null,
            "left": null,
            "margin": null,
            "max_height": null,
            "max_width": null,
            "min_height": null,
            "min_width": null,
            "object_fit": null,
            "object_position": null,
            "order": null,
            "overflow": null,
            "overflow_x": null,
            "overflow_y": null,
            "padding": null,
            "right": null,
            "top": null,
            "visibility": null,
            "width": null
          }
        },
        "1d50c5b101184d8cac1ff0a320e3984c": {
          "model_module": "@jupyter-widgets/controls",
          "model_name": "DescriptionStyleModel",
          "model_module_version": "1.5.0",
          "state": {
            "_model_module": "@jupyter-widgets/controls",
            "_model_module_version": "1.5.0",
            "_model_name": "DescriptionStyleModel",
            "_view_count": null,
            "_view_module": "@jupyter-widgets/base",
            "_view_module_version": "1.2.0",
            "_view_name": "StyleView",
            "description_width": ""
          }
        },
        "d1c03de83eca402eb42413b1ded54550": {
          "model_module": "@jupyter-widgets/base",
          "model_name": "LayoutModel",
          "model_module_version": "1.2.0",
          "state": {
            "_model_module": "@jupyter-widgets/base",
            "_model_module_version": "1.2.0",
            "_model_name": "LayoutModel",
            "_view_count": null,
            "_view_module": "@jupyter-widgets/base",
            "_view_module_version": "1.2.0",
            "_view_name": "LayoutView",
            "align_content": null,
            "align_items": null,
            "align_self": null,
            "border": null,
            "bottom": null,
            "display": null,
            "flex": null,
            "flex_flow": null,
            "grid_area": null,
            "grid_auto_columns": null,
            "grid_auto_flow": null,
            "grid_auto_rows": null,
            "grid_column": null,
            "grid_gap": null,
            "grid_row": null,
            "grid_template_areas": null,
            "grid_template_columns": null,
            "grid_template_rows": null,
            "height": null,
            "justify_content": null,
            "justify_items": null,
            "left": null,
            "margin": null,
            "max_height": null,
            "max_width": null,
            "min_height": null,
            "min_width": null,
            "object_fit": null,
            "object_position": null,
            "order": null,
            "overflow": null,
            "overflow_x": null,
            "overflow_y": null,
            "padding": null,
            "right": null,
            "top": null,
            "visibility": null,
            "width": null
          }
        },
        "e44bad96fe73415aac00d4ee8cbb01df": {
          "model_module": "@jupyter-widgets/controls",
          "model_name": "ProgressStyleModel",
          "model_module_version": "1.5.0",
          "state": {
            "_model_module": "@jupyter-widgets/controls",
            "_model_module_version": "1.5.0",
            "_model_name": "ProgressStyleModel",
            "_view_count": null,
            "_view_module": "@jupyter-widgets/base",
            "_view_module_version": "1.2.0",
            "_view_name": "StyleView",
            "bar_color": null,
            "description_width": ""
          }
        },
        "42c40c021c6d4e4593a99f77cc126cc6": {
          "model_module": "@jupyter-widgets/base",
          "model_name": "LayoutModel",
          "model_module_version": "1.2.0",
          "state": {
            "_model_module": "@jupyter-widgets/base",
            "_model_module_version": "1.2.0",
            "_model_name": "LayoutModel",
            "_view_count": null,
            "_view_module": "@jupyter-widgets/base",
            "_view_module_version": "1.2.0",
            "_view_name": "LayoutView",
            "align_content": null,
            "align_items": null,
            "align_self": null,
            "border": null,
            "bottom": null,
            "display": null,
            "flex": null,
            "flex_flow": null,
            "grid_area": null,
            "grid_auto_columns": null,
            "grid_auto_flow": null,
            "grid_auto_rows": null,
            "grid_column": null,
            "grid_gap": null,
            "grid_row": null,
            "grid_template_areas": null,
            "grid_template_columns": null,
            "grid_template_rows": null,
            "height": null,
            "justify_content": null,
            "justify_items": null,
            "left": null,
            "margin": null,
            "max_height": null,
            "max_width": null,
            "min_height": null,
            "min_width": null,
            "object_fit": null,
            "object_position": null,
            "order": null,
            "overflow": null,
            "overflow_x": null,
            "overflow_y": null,
            "padding": null,
            "right": null,
            "top": null,
            "visibility": null,
            "width": null
          }
        },
        "dbb8ba94ab1e4c76be6023990024d6a8": {
          "model_module": "@jupyter-widgets/controls",
          "model_name": "DescriptionStyleModel",
          "model_module_version": "1.5.0",
          "state": {
            "_model_module": "@jupyter-widgets/controls",
            "_model_module_version": "1.5.0",
            "_model_name": "DescriptionStyleModel",
            "_view_count": null,
            "_view_module": "@jupyter-widgets/base",
            "_view_module_version": "1.2.0",
            "_view_name": "StyleView",
            "description_width": ""
          }
        },
        "c20356852f5748d3966d332c7796b9a8": {
          "model_module": "@jupyter-widgets/controls",
          "model_name": "HBoxModel",
          "model_module_version": "1.5.0",
          "state": {
            "_dom_classes": [],
            "_model_module": "@jupyter-widgets/controls",
            "_model_module_version": "1.5.0",
            "_model_name": "HBoxModel",
            "_view_count": null,
            "_view_module": "@jupyter-widgets/controls",
            "_view_module_version": "1.5.0",
            "_view_name": "HBoxView",
            "box_style": "",
            "children": [
              "IPY_MODEL_390986f0bb774daba185791087ae6102",
              "IPY_MODEL_6cfd72fd9b9a47899bf9c28eace1ef85",
              "IPY_MODEL_268fe21249274edb8b6f8ef29632c5ed"
            ],
            "layout": "IPY_MODEL_d6215dc8a898451f9c5969610a598990"
          }
        },
        "390986f0bb774daba185791087ae6102": {
          "model_module": "@jupyter-widgets/controls",
          "model_name": "HTMLModel",
          "model_module_version": "1.5.0",
          "state": {
            "_dom_classes": [],
            "_model_module": "@jupyter-widgets/controls",
            "_model_module_version": "1.5.0",
            "_model_name": "HTMLModel",
            "_view_count": null,
            "_view_module": "@jupyter-widgets/controls",
            "_view_module_version": "1.5.0",
            "_view_name": "HTMLView",
            "description": "",
            "description_tooltip": null,
            "layout": "IPY_MODEL_52b486213fa24c45b62a7182709f12f5",
            "placeholder": "​",
            "style": "IPY_MODEL_dc0904c09fdc439cbdf530984d6f99a5",
            "value": "100%"
          }
        },
        "6cfd72fd9b9a47899bf9c28eace1ef85": {
          "model_module": "@jupyter-widgets/controls",
          "model_name": "FloatProgressModel",
          "model_module_version": "1.5.0",
          "state": {
            "_dom_classes": [],
            "_model_module": "@jupyter-widgets/controls",
            "_model_module_version": "1.5.0",
            "_model_name": "FloatProgressModel",
            "_view_count": null,
            "_view_module": "@jupyter-widgets/controls",
            "_view_module_version": "1.5.0",
            "_view_name": "ProgressView",
            "bar_style": "success",
            "description": "",
            "description_tooltip": null,
            "layout": "IPY_MODEL_6eda5df6800f43caae5c1890e8a5ae3c",
            "max": 4542,
            "min": 0,
            "orientation": "horizontal",
            "style": "IPY_MODEL_0cf408ce4eaf4bce95ec29fdb9ff8c05",
            "value": 4542
          }
        },
        "268fe21249274edb8b6f8ef29632c5ed": {
          "model_module": "@jupyter-widgets/controls",
          "model_name": "HTMLModel",
          "model_module_version": "1.5.0",
          "state": {
            "_dom_classes": [],
            "_model_module": "@jupyter-widgets/controls",
            "_model_module_version": "1.5.0",
            "_model_name": "HTMLModel",
            "_view_count": null,
            "_view_module": "@jupyter-widgets/controls",
            "_view_module_version": "1.5.0",
            "_view_name": "HTMLView",
            "description": "",
            "description_tooltip": null,
            "layout": "IPY_MODEL_7f0e60c2859146789a1c5d82e18c761d",
            "placeholder": "​",
            "style": "IPY_MODEL_de236feb57964a45b18030c69ab99c0d",
            "value": " 4542/4542 [00:00&lt;00:00, 132616.75it/s]"
          }
        },
        "d6215dc8a898451f9c5969610a598990": {
          "model_module": "@jupyter-widgets/base",
          "model_name": "LayoutModel",
          "model_module_version": "1.2.0",
          "state": {
            "_model_module": "@jupyter-widgets/base",
            "_model_module_version": "1.2.0",
            "_model_name": "LayoutModel",
            "_view_count": null,
            "_view_module": "@jupyter-widgets/base",
            "_view_module_version": "1.2.0",
            "_view_name": "LayoutView",
            "align_content": null,
            "align_items": null,
            "align_self": null,
            "border": null,
            "bottom": null,
            "display": null,
            "flex": null,
            "flex_flow": null,
            "grid_area": null,
            "grid_auto_columns": null,
            "grid_auto_flow": null,
            "grid_auto_rows": null,
            "grid_column": null,
            "grid_gap": null,
            "grid_row": null,
            "grid_template_areas": null,
            "grid_template_columns": null,
            "grid_template_rows": null,
            "height": null,
            "justify_content": null,
            "justify_items": null,
            "left": null,
            "margin": null,
            "max_height": null,
            "max_width": null,
            "min_height": null,
            "min_width": null,
            "object_fit": null,
            "object_position": null,
            "order": null,
            "overflow": null,
            "overflow_x": null,
            "overflow_y": null,
            "padding": null,
            "right": null,
            "top": null,
            "visibility": null,
            "width": null
          }
        },
        "52b486213fa24c45b62a7182709f12f5": {
          "model_module": "@jupyter-widgets/base",
          "model_name": "LayoutModel",
          "model_module_version": "1.2.0",
          "state": {
            "_model_module": "@jupyter-widgets/base",
            "_model_module_version": "1.2.0",
            "_model_name": "LayoutModel",
            "_view_count": null,
            "_view_module": "@jupyter-widgets/base",
            "_view_module_version": "1.2.0",
            "_view_name": "LayoutView",
            "align_content": null,
            "align_items": null,
            "align_self": null,
            "border": null,
            "bottom": null,
            "display": null,
            "flex": null,
            "flex_flow": null,
            "grid_area": null,
            "grid_auto_columns": null,
            "grid_auto_flow": null,
            "grid_auto_rows": null,
            "grid_column": null,
            "grid_gap": null,
            "grid_row": null,
            "grid_template_areas": null,
            "grid_template_columns": null,
            "grid_template_rows": null,
            "height": null,
            "justify_content": null,
            "justify_items": null,
            "left": null,
            "margin": null,
            "max_height": null,
            "max_width": null,
            "min_height": null,
            "min_width": null,
            "object_fit": null,
            "object_position": null,
            "order": null,
            "overflow": null,
            "overflow_x": null,
            "overflow_y": null,
            "padding": null,
            "right": null,
            "top": null,
            "visibility": null,
            "width": null
          }
        },
        "dc0904c09fdc439cbdf530984d6f99a5": {
          "model_module": "@jupyter-widgets/controls",
          "model_name": "DescriptionStyleModel",
          "model_module_version": "1.5.0",
          "state": {
            "_model_module": "@jupyter-widgets/controls",
            "_model_module_version": "1.5.0",
            "_model_name": "DescriptionStyleModel",
            "_view_count": null,
            "_view_module": "@jupyter-widgets/base",
            "_view_module_version": "1.2.0",
            "_view_name": "StyleView",
            "description_width": ""
          }
        },
        "6eda5df6800f43caae5c1890e8a5ae3c": {
          "model_module": "@jupyter-widgets/base",
          "model_name": "LayoutModel",
          "model_module_version": "1.2.0",
          "state": {
            "_model_module": "@jupyter-widgets/base",
            "_model_module_version": "1.2.0",
            "_model_name": "LayoutModel",
            "_view_count": null,
            "_view_module": "@jupyter-widgets/base",
            "_view_module_version": "1.2.0",
            "_view_name": "LayoutView",
            "align_content": null,
            "align_items": null,
            "align_self": null,
            "border": null,
            "bottom": null,
            "display": null,
            "flex": null,
            "flex_flow": null,
            "grid_area": null,
            "grid_auto_columns": null,
            "grid_auto_flow": null,
            "grid_auto_rows": null,
            "grid_column": null,
            "grid_gap": null,
            "grid_row": null,
            "grid_template_areas": null,
            "grid_template_columns": null,
            "grid_template_rows": null,
            "height": null,
            "justify_content": null,
            "justify_items": null,
            "left": null,
            "margin": null,
            "max_height": null,
            "max_width": null,
            "min_height": null,
            "min_width": null,
            "object_fit": null,
            "object_position": null,
            "order": null,
            "overflow": null,
            "overflow_x": null,
            "overflow_y": null,
            "padding": null,
            "right": null,
            "top": null,
            "visibility": null,
            "width": null
          }
        },
        "0cf408ce4eaf4bce95ec29fdb9ff8c05": {
          "model_module": "@jupyter-widgets/controls",
          "model_name": "ProgressStyleModel",
          "model_module_version": "1.5.0",
          "state": {
            "_model_module": "@jupyter-widgets/controls",
            "_model_module_version": "1.5.0",
            "_model_name": "ProgressStyleModel",
            "_view_count": null,
            "_view_module": "@jupyter-widgets/base",
            "_view_module_version": "1.2.0",
            "_view_name": "StyleView",
            "bar_color": null,
            "description_width": ""
          }
        },
        "7f0e60c2859146789a1c5d82e18c761d": {
          "model_module": "@jupyter-widgets/base",
          "model_name": "LayoutModel",
          "model_module_version": "1.2.0",
          "state": {
            "_model_module": "@jupyter-widgets/base",
            "_model_module_version": "1.2.0",
            "_model_name": "LayoutModel",
            "_view_count": null,
            "_view_module": "@jupyter-widgets/base",
            "_view_module_version": "1.2.0",
            "_view_name": "LayoutView",
            "align_content": null,
            "align_items": null,
            "align_self": null,
            "border": null,
            "bottom": null,
            "display": null,
            "flex": null,
            "flex_flow": null,
            "grid_area": null,
            "grid_auto_columns": null,
            "grid_auto_flow": null,
            "grid_auto_rows": null,
            "grid_column": null,
            "grid_gap": null,
            "grid_row": null,
            "grid_template_areas": null,
            "grid_template_columns": null,
            "grid_template_rows": null,
            "height": null,
            "justify_content": null,
            "justify_items": null,
            "left": null,
            "margin": null,
            "max_height": null,
            "max_width": null,
            "min_height": null,
            "min_width": null,
            "object_fit": null,
            "object_position": null,
            "order": null,
            "overflow": null,
            "overflow_x": null,
            "overflow_y": null,
            "padding": null,
            "right": null,
            "top": null,
            "visibility": null,
            "width": null
          }
        },
        "de236feb57964a45b18030c69ab99c0d": {
          "model_module": "@jupyter-widgets/controls",
          "model_name": "DescriptionStyleModel",
          "model_module_version": "1.5.0",
          "state": {
            "_model_module": "@jupyter-widgets/controls",
            "_model_module_version": "1.5.0",
            "_model_name": "DescriptionStyleModel",
            "_view_count": null,
            "_view_module": "@jupyter-widgets/base",
            "_view_module_version": "1.2.0",
            "_view_name": "StyleView",
            "description_width": ""
          }
        }
      }
    }
  },
  "nbformat": 4,
  "nbformat_minor": 0
}